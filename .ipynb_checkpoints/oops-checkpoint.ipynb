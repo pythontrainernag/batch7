{
 "cells": [
  {
   "cell_type": "code",
   "execution_count": 1,
   "metadata": {},
   "outputs": [],
   "source": [
    "#class className():\n",
    "#    attributes\n",
    "#    methods"
   ]
  },
  {
   "cell_type": "code",
   "execution_count": 2,
   "metadata": {},
   "outputs": [
    {
     "name": "stdout",
     "output_type": "stream",
     "text": [
      "<__main__.Pen object at 0x0000000004BC63C8>\n",
      "<__main__.Pen object at 0x0000000004B50F60>\n"
     ]
    }
   ],
   "source": [
    "class Pen(object):\n",
    "    def __init__(self):\n",
    "        self.ink_level = 100\n",
    "    def write(self, hours):\n",
    "        self.ink_level = self.ink_level - (hours*10)\n",
    "        if self.ink_level <= 10:\n",
    "            return \"Hey please maintain back up\"\n",
    "        return \"Good\"\n",
    "    def check_level(self):\n",
    "        return self.ink_level\n",
    "p1 = Pen()\n",
    "p2 = Pen()\n",
    "print p1\n",
    "print p2"
   ]
  },
  {
   "cell_type": "code",
   "execution_count": 3,
   "metadata": {},
   "outputs": [
    {
     "name": "stdout",
     "output_type": "stream",
     "text": [
      "Good\n"
     ]
    }
   ],
   "source": [
    "print p1.write(2)"
   ]
  },
  {
   "cell_type": "code",
   "execution_count": 4,
   "metadata": {},
   "outputs": [
    {
     "name": "stdout",
     "output_type": "stream",
     "text": [
      "Hey please maintain back up\n"
     ]
    }
   ],
   "source": [
    "print p2.write(9.3)"
   ]
  },
  {
   "cell_type": "code",
   "execution_count": 5,
   "metadata": {},
   "outputs": [
    {
     "name": "stdout",
     "output_type": "stream",
     "text": [
      "80\n"
     ]
    }
   ],
   "source": [
    "print p1.check_level()"
   ]
  },
  {
   "cell_type": "code",
   "execution_count": 6,
   "metadata": {},
   "outputs": [
    {
     "name": "stdout",
     "output_type": "stream",
     "text": [
      "7.0\n"
     ]
    }
   ],
   "source": [
    "print p2.check_level()"
   ]
  },
  {
   "cell_type": "markdown",
   "metadata": {},
   "source": [
    "# instance variables and class variables"
   ]
  },
  {
   "cell_type": "code",
   "execution_count": 1,
   "metadata": {},
   "outputs": [],
   "source": [
    "#instance variables are nothing but the attributes that are specific instances like balance in the Account\n",
    "#class variables are specific to class. If any change in the class then it will effect all instances"
   ]
  },
  {
   "cell_type": "code",
   "execution_count": 2,
   "metadata": {},
   "outputs": [],
   "source": [
    "class Myclass():\n",
    "    a = 10\n",
    "    b = 20\n",
    "    def __init__(self):\n",
    "        self.c = 100\n",
    "        self.d = 200"
   ]
  },
  {
   "cell_type": "code",
   "execution_count": 3,
   "metadata": {},
   "outputs": [
    {
     "name": "stdout",
     "output_type": "stream",
     "text": [
      "['__doc__', '__init__', '__module__', 'a', 'b', 'c', 'd']\n"
     ]
    }
   ],
   "source": [
    "o1 = Myclass()\n",
    "o2 = Myclass()\n",
    "print dir(o1)"
   ]
  },
  {
   "cell_type": "code",
   "execution_count": 4,
   "metadata": {},
   "outputs": [
    {
     "name": "stdout",
     "output_type": "stream",
     "text": [
      "['__doc__', '__init__', '__module__', 'a', 'b', 'c', 'd']\n"
     ]
    }
   ],
   "source": [
    "print dir(o2)"
   ]
  },
  {
   "cell_type": "code",
   "execution_count": 6,
   "metadata": {},
   "outputs": [],
   "source": [
    "class Pen():\n",
    "    def __init__(self, c):\n",
    "        self.ink_level = 100\n",
    "        self.color = c\n",
    "p1 = Pen(\"blue\")\n",
    "p2 = Pen(\"red\")"
   ]
  },
  {
   "cell_type": "code",
   "execution_count": 7,
   "metadata": {},
   "outputs": [
    {
     "name": "stdout",
     "output_type": "stream",
     "text": [
      "['__doc__', '__init__', '__module__', 'color', 'ink_level']\n"
     ]
    }
   ],
   "source": [
    "print dir(p1)"
   ]
  },
  {
   "cell_type": "code",
   "execution_count": 9,
   "metadata": {},
   "outputs": [
    {
     "name": "stdout",
     "output_type": "stream",
     "text": [
      "['__doc__', '__init__', '__module__', 'color', 'ink_level']\n"
     ]
    }
   ],
   "source": [
    "print dir(p2)"
   ]
  },
  {
   "cell_type": "code",
   "execution_count": 10,
   "metadata": {},
   "outputs": [
    {
     "name": "stdout",
     "output_type": "stream",
     "text": [
      "blue\n",
      "red\n"
     ]
    }
   ],
   "source": [
    "print p1.color\n",
    "print p2.color"
   ]
  },
  {
   "cell_type": "code",
   "execution_count": 11,
   "metadata": {},
   "outputs": [
    {
     "name": "stdout",
     "output_type": "stream",
     "text": [
      "<__main__.Pen instance at 0x0000000004D2CA08>\n",
      "<__main__.Pen instance at 0x0000000004D2C8C8>\n",
      "p1 is  <__main__.Pen instance at 0x0000000004D2CA08>\n",
      "p2 is  <__main__.Pen instance at 0x0000000004D2C8C8>\n"
     ]
    }
   ],
   "source": [
    "class Pen():\n",
    "    def __init__(self, c):\n",
    "        print self\n",
    "        self.ink_level = 100\n",
    "        self.color = c\n",
    "    def getColor(self):\n",
    "        print self\n",
    "        return self.color\n",
    "p1 = Pen(\"blue\")\n",
    "p2 = Pen(\"red\")\n",
    "print \"p1 is \", p1\n",
    "print \"p2 is \", p2"
   ]
  },
  {
   "cell_type": "code",
   "execution_count": 13,
   "metadata": {},
   "outputs": [
    {
     "name": "stdout",
     "output_type": "stream",
     "text": [
      "<__main__.Pen instance at 0x0000000004D2CA08>\n",
      "blue\n"
     ]
    }
   ],
   "source": [
    "print p1.getColor()"
   ]
  },
  {
   "cell_type": "code",
   "execution_count": 14,
   "metadata": {},
   "outputs": [
    {
     "name": "stdout",
     "output_type": "stream",
     "text": [
      "<__main__.Pen instance at 0x0000000004D2C8C8>\n",
      "red\n"
     ]
    }
   ],
   "source": [
    "print p2.getColor()"
   ]
  },
  {
   "cell_type": "code",
   "execution_count": 15,
   "metadata": {},
   "outputs": [
    {
     "name": "stdout",
     "output_type": "stream",
     "text": [
      "<__main__.Pen instance at 0x0000000004BFD148>\n",
      "<__main__.Pen instance at 0x0000000004BFD2C8>\n",
      "p1 is  <__main__.Pen instance at 0x0000000004BFD148>\n",
      "p2 is  <__main__.Pen instance at 0x0000000004BFD2C8>\n"
     ]
    }
   ],
   "source": [
    "class Pen():\n",
    "    def __init__(self, c):\n",
    "        print self\n",
    "        self.ink_level = 100\n",
    "        self.color = c\n",
    "    def getColor(xyz):\n",
    "        print xyz\n",
    "        return xyz.color\n",
    "p1 = Pen(\"blue\")\n",
    "p2 = Pen(\"red\")\n",
    "print \"p1 is \", p1\n",
    "print \"p2 is \", p2"
   ]
  },
  {
   "cell_type": "code",
   "execution_count": 16,
   "metadata": {},
   "outputs": [
    {
     "name": "stdout",
     "output_type": "stream",
     "text": [
      "<__main__.Pen instance at 0x0000000004BFD148>\n",
      "blue\n"
     ]
    }
   ],
   "source": [
    "print p1.getColor()"
   ]
  },
  {
   "cell_type": "code",
   "execution_count": 17,
   "metadata": {},
   "outputs": [],
   "source": [
    "class Myclass():\n",
    "    a = 10\n",
    "    b = 20\n",
    "    def __init__(self, c, d):\n",
    "        self.c = d\n",
    "        self.d = c\n",
    "        e =100\n",
    "o1 = Myclass(35, 45)\n",
    "o2 = Myclass(40, 50)\n"
   ]
  },
  {
   "cell_type": "code",
   "execution_count": 19,
   "metadata": {},
   "outputs": [
    {
     "name": "stdout",
     "output_type": "stream",
     "text": [
      "45\n",
      "50\n"
     ]
    }
   ],
   "source": [
    "print o1.c\n",
    "print o2.c"
   ]
  },
  {
   "cell_type": "code",
   "execution_count": 20,
   "metadata": {},
   "outputs": [
    {
     "name": "stdout",
     "output_type": "stream",
     "text": [
      "45 35"
     ]
    },
    {
     "ename": "AttributeError",
     "evalue": "Myclass instance has no attribute 'e'",
     "output_type": "error",
     "traceback": [
      "\u001b[1;31m---------------------------------------------------------------------------\u001b[0m",
      "\u001b[1;31mAttributeError\u001b[0m                            Traceback (most recent call last)",
      "\u001b[1;32m<ipython-input-20-f2d4ba99d2ec>\u001b[0m in \u001b[0;36m<module>\u001b[1;34m()\u001b[0m\n\u001b[0;32m     10\u001b[0m \u001b[0mo1\u001b[0m \u001b[1;33m=\u001b[0m \u001b[0mMyclass\u001b[0m\u001b[1;33m(\u001b[0m\u001b[1;36m35\u001b[0m\u001b[1;33m,\u001b[0m \u001b[1;36m45\u001b[0m\u001b[1;33m)\u001b[0m\u001b[1;33m\u001b[0m\u001b[0m\n\u001b[0;32m     11\u001b[0m \u001b[0mo2\u001b[0m \u001b[1;33m=\u001b[0m \u001b[0mMyclass\u001b[0m\u001b[1;33m(\u001b[0m\u001b[1;36m40\u001b[0m\u001b[1;33m,\u001b[0m \u001b[1;36m50\u001b[0m\u001b[1;33m)\u001b[0m\u001b[1;33m\u001b[0m\u001b[0m\n\u001b[1;32m---> 12\u001b[1;33m \u001b[1;32mprint\u001b[0m \u001b[0mo1\u001b[0m\u001b[1;33m.\u001b[0m\u001b[0mreadValues\u001b[0m\u001b[1;33m(\u001b[0m\u001b[1;33m)\u001b[0m\u001b[1;33m\u001b[0m\u001b[0m\n\u001b[0m",
      "\u001b[1;32m<ipython-input-20-f2d4ba99d2ec>\u001b[0m in \u001b[0;36mreadValues\u001b[1;34m(self)\u001b[0m\n\u001b[0;32m      7\u001b[0m         \u001b[0me\u001b[0m \u001b[1;33m=\u001b[0m\u001b[1;36m100\u001b[0m\u001b[1;33m\u001b[0m\u001b[0m\n\u001b[0;32m      8\u001b[0m     \u001b[1;32mdef\u001b[0m \u001b[0mreadValues\u001b[0m\u001b[1;33m(\u001b[0m\u001b[0mself\u001b[0m\u001b[1;33m)\u001b[0m\u001b[1;33m:\u001b[0m\u001b[1;33m\u001b[0m\u001b[0m\n\u001b[1;32m----> 9\u001b[1;33m         \u001b[1;32mprint\u001b[0m \u001b[0mself\u001b[0m\u001b[1;33m.\u001b[0m\u001b[0mc\u001b[0m\u001b[1;33m,\u001b[0m \u001b[0mself\u001b[0m\u001b[1;33m.\u001b[0m\u001b[0md\u001b[0m\u001b[1;33m,\u001b[0m \u001b[0mself\u001b[0m\u001b[1;33m.\u001b[0m\u001b[0me\u001b[0m\u001b[1;33m\u001b[0m\u001b[0m\n\u001b[0m\u001b[0;32m     10\u001b[0m \u001b[0mo1\u001b[0m \u001b[1;33m=\u001b[0m \u001b[0mMyclass\u001b[0m\u001b[1;33m(\u001b[0m\u001b[1;36m35\u001b[0m\u001b[1;33m,\u001b[0m \u001b[1;36m45\u001b[0m\u001b[1;33m)\u001b[0m\u001b[1;33m\u001b[0m\u001b[0m\n\u001b[0;32m     11\u001b[0m \u001b[0mo2\u001b[0m \u001b[1;33m=\u001b[0m \u001b[0mMyclass\u001b[0m\u001b[1;33m(\u001b[0m\u001b[1;36m40\u001b[0m\u001b[1;33m,\u001b[0m \u001b[1;36m50\u001b[0m\u001b[1;33m)\u001b[0m\u001b[1;33m\u001b[0m\u001b[0m\n",
      "\u001b[1;31mAttributeError\u001b[0m: Myclass instance has no attribute 'e'"
     ]
    }
   ],
   "source": [
    "class Myclass():\n",
    "    a = 10\n",
    "    b = 20\n",
    "    def __init__(self, c, d):\n",
    "        self.c = d\n",
    "        self.d = c\n",
    "        e =100\n",
    "    def readValues(self):\n",
    "        print self.c, self.d, self.e\n",
    "o1 = Myclass(35, 45)\n",
    "o2 = Myclass(40, 50)\n",
    "print o1.readValues()"
   ]
  },
  {
   "cell_type": "code",
   "execution_count": 22,
   "metadata": {},
   "outputs": [
    {
     "name": "stdout",
     "output_type": "stream",
     "text": [
      "45 35\n",
      "50 40\n"
     ]
    }
   ],
   "source": [
    "class Myclass():\n",
    "    a = 10\n",
    "    b = 20\n",
    "    def __init__(self, c, d):\n",
    "        self.c = d\n",
    "        self.d = c\n",
    "        e =100\n",
    "    def readValues(self):\n",
    "        print self.c, self.d\n",
    "o1 = Myclass(35, 45)\n",
    "o2 = Myclass(40, 50)\n",
    "o1.readValues()\n",
    "o2.readValues()"
   ]
  },
  {
   "cell_type": "code",
   "execution_count": 23,
   "metadata": {},
   "outputs": [
    {
     "name": "stdout",
     "output_type": "stream",
     "text": [
      "45 35 100\n",
      "50 40 100\n"
     ]
    }
   ],
   "source": [
    "class Myclass():\n",
    "    a = 10\n",
    "    b = 20\n",
    "    def __init__(self, c, d):\n",
    "        self.c = d\n",
    "        self.d = c\n",
    "        self.e =100\n",
    "    def readValues(self):\n",
    "        print self.c, self.d, self.e\n",
    "o1 = Myclass(35, 45)\n",
    "o2 = Myclass(40, 50)\n",
    "o1.readValues()\n",
    "o2.readValues()"
   ]
  },
  {
   "cell_type": "code",
   "execution_count": 24,
   "metadata": {},
   "outputs": [],
   "source": [
    "#class variables can be modified/read/create by using classNames\n",
    "#class variables can also be read by using instance/object\n",
    "#instance variables can be modified/read/create by using instance"
   ]
  },
  {
   "cell_type": "code",
   "execution_count": 26,
   "metadata": {},
   "outputs": [
    {
     "name": "stdout",
     "output_type": "stream",
     "text": [
      "10 20 45 35 100\n",
      "10 20 50 40 100\n"
     ]
    }
   ],
   "source": [
    "class Myclass():\n",
    "    a = 10\n",
    "    b = 20\n",
    "    def __init__(self, c, d):\n",
    "        self.c = d\n",
    "        self.d = c\n",
    "        self.e =100\n",
    "    def readValues(self):\n",
    "        print self.c, self.d, self.e\n",
    "o1 = Myclass(35, 45)\n",
    "o2 = Myclass(40, 50)\n",
    "print o1.a, o1.b, o1.c, o1.d, o1.e\n",
    "print o2.a, o2.b, o2.c, o2.d, o2.e"
   ]
  },
  {
   "cell_type": "code",
   "execution_count": 27,
   "metadata": {},
   "outputs": [
    {
     "name": "stdout",
     "output_type": "stream",
     "text": [
      "50\n",
      "150\n"
     ]
    }
   ],
   "source": [
    "o1.c = 150\n",
    "print o2.c\n",
    "print o1.c"
   ]
  },
  {
   "cell_type": "code",
   "execution_count": 28,
   "metadata": {},
   "outputs": [
    {
     "name": "stdout",
     "output_type": "stream",
     "text": [
      "200 35\n"
     ]
    }
   ],
   "source": [
    "o2.d = 200\n",
    "print o2.d, o1.d"
   ]
  },
  {
   "cell_type": "code",
   "execution_count": 29,
   "metadata": {},
   "outputs": [
    {
     "name": "stdout",
     "output_type": "stream",
     "text": [
      "250 250 20 20\n"
     ]
    }
   ],
   "source": [
    "Myclass.a = 250\n",
    "print o1.a, o2.a, o1.b, o2.b"
   ]
  },
  {
   "cell_type": "code",
   "execution_count": 30,
   "metadata": {},
   "outputs": [
    {
     "name": "stdout",
     "output_type": "stream",
     "text": [
      "250 20 25 12\n"
     ]
    }
   ],
   "source": [
    "o3 = Myclass(12, 25)\n",
    "print o3.a, o3.b, o3.c, o3.d"
   ]
  },
  {
   "cell_type": "code",
   "execution_count": 31,
   "metadata": {},
   "outputs": [
    {
     "name": "stdout",
     "output_type": "stream",
     "text": [
      "210 250 250\n"
     ]
    }
   ],
   "source": [
    "o3.a = 210\n",
    "print o3.a, o2.a, o1.a"
   ]
  },
  {
   "cell_type": "code",
   "execution_count": 32,
   "metadata": {},
   "outputs": [
    {
     "name": "stdout",
     "output_type": "stream",
     "text": [
      "1\n"
     ]
    }
   ],
   "source": [
    "print 3/2"
   ]
  },
  {
   "cell_type": "code",
   "execution_count": 33,
   "metadata": {},
   "outputs": [
    {
     "name": "stdout",
     "output_type": "stream",
     "text": [
      "3/2\n"
     ]
    }
   ],
   "source": [
    "print str(3)+'/'+str(2)"
   ]
  },
  {
   "cell_type": "code",
   "execution_count": 34,
   "metadata": {},
   "outputs": [],
   "source": [
    "class Fraction(object):\n",
    "    def __init__(self, num, denom):\n",
    "        self.num = num\n",
    "        self.denom = denom\n",
    "    def display(self):\n",
    "        return str(self.num)+'/'+str(self.denom)"
   ]
  },
  {
   "cell_type": "code",
   "execution_count": 36,
   "metadata": {},
   "outputs": [
    {
     "name": "stdout",
     "output_type": "stream",
     "text": [
      "<__main__.Fraction object at 0x0000000004581E48>\n"
     ]
    }
   ],
   "source": [
    "f1 = Fraction(8, 5)\n",
    "print f1"
   ]
  },
  {
   "cell_type": "code",
   "execution_count": 37,
   "metadata": {},
   "outputs": [
    {
     "name": "stdout",
     "output_type": "stream",
     "text": [
      "8/5\n"
     ]
    }
   ],
   "source": [
    "print f1.display()"
   ]
  },
  {
   "cell_type": "code",
   "execution_count": 38,
   "metadata": {},
   "outputs": [],
   "source": [
    "class Fraction(object):\n",
    "    def __init__(self, num, denom):\n",
    "        self.num = num\n",
    "        self.denom = denom\n",
    "    def __str__(self):\n",
    "        return str(self.num)+'/'+str(self.denom)"
   ]
  },
  {
   "cell_type": "code",
   "execution_count": 39,
   "metadata": {},
   "outputs": [
    {
     "name": "stdout",
     "output_type": "stream",
     "text": [
      "8/5\n"
     ]
    }
   ],
   "source": [
    "f1 = Fraction(8, 5)\n",
    "print f1"
   ]
  },
  {
   "cell_type": "code",
   "execution_count": 40,
   "metadata": {},
   "outputs": [
    {
     "name": "stdout",
     "output_type": "stream",
     "text": [
      "8\n"
     ]
    }
   ],
   "source": [
    "print f1.num"
   ]
  },
  {
   "cell_type": "code",
   "execution_count": 41,
   "metadata": {},
   "outputs": [
    {
     "name": "stdout",
     "output_type": "stream",
     "text": [
      "5\n"
     ]
    }
   ],
   "source": [
    "print f1.denom"
   ]
  },
  {
   "cell_type": "code",
   "execution_count": 42,
   "metadata": {},
   "outputs": [
    {
     "name": "stdout",
     "output_type": "stream",
     "text": [
      "8/5\n"
     ]
    }
   ],
   "source": [
    "print f1"
   ]
  },
  {
   "cell_type": "code",
   "execution_count": 44,
   "metadata": {},
   "outputs": [
    {
     "name": "stdout",
     "output_type": "stream",
     "text": [
      "8/5\n",
      "8/4\n"
     ]
    }
   ],
   "source": [
    "class Fraction(object):\n",
    "    def __init__(self, num, denom):\n",
    "        self.num = num\n",
    "        self.denom = denom\n",
    "    def __str__(self):\n",
    "        return str(self.num)+'/'+str(self.denom)\n",
    "    def addi(self, other):\n",
    "        num = (self.num*other.denom)+(self.denom*other.num)\n",
    "        denom = self.denom*other.denom\n",
    "        return str(num)+'/'+str(denom)\n",
    "f1 = Fraction(8, 5)\n",
    "f2 = Fraction(8, 4)\n",
    "print f1\n",
    "print f2"
   ]
  },
  {
   "cell_type": "code",
   "execution_count": 45,
   "metadata": {},
   "outputs": [
    {
     "name": "stdout",
     "output_type": "stream",
     "text": [
      "72/20\n"
     ]
    }
   ],
   "source": [
    "print f1.addi(f2)"
   ]
  },
  {
   "cell_type": "code",
   "execution_count": 46,
   "metadata": {},
   "outputs": [
    {
     "name": "stdout",
     "output_type": "stream",
     "text": [
      "8/5\n",
      "8/4\n"
     ]
    }
   ],
   "source": [
    "class Fraction(object):\n",
    "    def __init__(self, num, denom):\n",
    "        self.num = num\n",
    "        self.denom = denom\n",
    "    def __str__(self):\n",
    "        return str(self.num)+'/'+str(self.denom)\n",
    "    def __add__(self, other):\n",
    "        num = (self.num*other.denom)+(self.denom*other.num)\n",
    "        denom = self.denom*other.denom\n",
    "        return str(num)+'/'+str(denom)\n",
    "f1 = Fraction(8, 5)\n",
    "f2 = Fraction(8, 4)\n",
    "print f1\n",
    "print f2"
   ]
  },
  {
   "cell_type": "code",
   "execution_count": 47,
   "metadata": {},
   "outputs": [
    {
     "name": "stdout",
     "output_type": "stream",
     "text": [
      "72/20\n"
     ]
    }
   ],
   "source": [
    "print f1+f2"
   ]
  },
  {
   "cell_type": "code",
   "execution_count": 48,
   "metadata": {},
   "outputs": [
    {
     "name": "stdout",
     "output_type": "stream",
     "text": [
      "72/20\n"
     ]
    }
   ],
   "source": [
    "print f1.__add__(f2)"
   ]
  },
  {
   "cell_type": "code",
   "execution_count": 49,
   "metadata": {},
   "outputs": [
    {
     "name": "stdout",
     "output_type": "stream",
     "text": [
      "['__abs__', '__add__', '__and__', '__class__', '__cmp__', '__coerce__', '__delattr__', '__div__', '__divmod__', '__doc__', '__float__', '__floordiv__', '__format__', '__getattribute__', '__getnewargs__', '__hash__', '__hex__', '__index__', '__init__', '__int__', '__invert__', '__long__', '__lshift__', '__mod__', '__mul__', '__neg__', '__new__', '__nonzero__', '__oct__', '__or__', '__pos__', '__pow__', '__radd__', '__rand__', '__rdiv__', '__rdivmod__', '__reduce__', '__reduce_ex__', '__repr__', '__rfloordiv__', '__rlshift__', '__rmod__', '__rmul__', '__ror__', '__rpow__', '__rrshift__', '__rshift__', '__rsub__', '__rtruediv__', '__rxor__', '__setattr__', '__sizeof__', '__str__', '__sub__', '__subclasshook__', '__truediv__', '__trunc__', '__xor__', 'bit_length', 'conjugate', 'denominator', 'imag', 'numerator', 'real']\n"
     ]
    }
   ],
   "source": [
    "print dir(5)"
   ]
  },
  {
   "cell_type": "code",
   "execution_count": 50,
   "metadata": {},
   "outputs": [
    {
     "name": "stdout",
     "output_type": "stream",
     "text": [
      "['__class__', '__delattr__', '__dict__', '__doc__', '__format__', '__getattribute__', '__hash__', '__init__', '__module__', '__new__', '__reduce__', '__reduce_ex__', '__repr__', '__setattr__', '__sizeof__', '__str__', '__subclasshook__', '__weakref__', 'myfun']\n"
     ]
    }
   ],
   "source": [
    "class parent(object):\n",
    "    def myfun(self):\n",
    "        return \"I am from parent\"\n",
    "\n",
    "class Child(parent):\n",
    "    pass\n",
    "\n",
    "o1 = Child()\n",
    "print dir(o1)"
   ]
  },
  {
   "cell_type": "code",
   "execution_count": 51,
   "metadata": {},
   "outputs": [
    {
     "name": "stdout",
     "output_type": "stream",
     "text": [
      "I am from parent\n"
     ]
    }
   ],
   "source": [
    "print o1.myfun()"
   ]
  },
  {
   "cell_type": "code",
   "execution_count": 52,
   "metadata": {},
   "outputs": [
    {
     "name": "stdout",
     "output_type": "stream",
     "text": [
      "['__class__', '__delattr__', '__dict__', '__doc__', '__format__', '__getattribute__', '__hash__', '__init__', '__module__', '__new__', '__reduce__', '__reduce_ex__', '__repr__', '__setattr__', '__sizeof__', '__str__', '__subclasshook__', '__weakref__', 'a', 'b', 'myfun']\n"
     ]
    }
   ],
   "source": [
    "class parent(object):\n",
    "    def __init__(self):\n",
    "        self.a = 10\n",
    "        self.b = 20\n",
    "    def myfun(self):\n",
    "        return \"I am from parent\"\n",
    "\n",
    "class Child(parent):\n",
    "    pass\n",
    "\n",
    "o1 = Child()\n",
    "print dir(o1)"
   ]
  },
  {
   "cell_type": "code",
   "execution_count": 53,
   "metadata": {},
   "outputs": [
    {
     "name": "stdout",
     "output_type": "stream",
     "text": [
      "10 20\n"
     ]
    }
   ],
   "source": [
    "print o1.a, o1.b"
   ]
  },
  {
   "cell_type": "code",
   "execution_count": 54,
   "metadata": {},
   "outputs": [
    {
     "name": "stdout",
     "output_type": "stream",
     "text": [
      "['__class__', '__delattr__', '__dict__', '__doc__', '__format__', '__getattribute__', '__hash__', '__init__', '__module__', '__new__', '__reduce__', '__reduce_ex__', '__repr__', '__setattr__', '__sizeof__', '__str__', '__subclasshook__', '__weakref__', 'c', 'd', 'myfun']\n"
     ]
    }
   ],
   "source": [
    "class parent(object):\n",
    "    def __init__(self):\n",
    "        self.a = 10\n",
    "        self.b = 20\n",
    "    def myfun(self):\n",
    "        return \"I am from parent\"\n",
    "\n",
    "class Child(parent):\n",
    "    def __init__(self):\n",
    "        self.c = 10\n",
    "        self.d = 20\n",
    "\n",
    "o1 = Child()\n",
    "print dir(o1)"
   ]
  },
  {
   "cell_type": "code",
   "execution_count": 55,
   "metadata": {},
   "outputs": [
    {
     "name": "stdout",
     "output_type": "stream",
     "text": [
      "['__class__', '__delattr__', '__dict__', '__doc__', '__format__', '__getattribute__', '__hash__', '__init__', '__module__', '__new__', '__reduce__', '__reduce_ex__', '__repr__', '__setattr__', '__sizeof__', '__str__', '__subclasshook__', '__weakref__', 'a', 'b', 'c', 'd', 'myfun']\n"
     ]
    }
   ],
   "source": [
    "class parent(object):\n",
    "    def __init__(self):\n",
    "        self.a = 10\n",
    "        self.b = 20\n",
    "    def myfun(self):\n",
    "        return \"I am from parent\"\n",
    "\n",
    "class Child(parent):\n",
    "    def __init__(self):\n",
    "        self.c = 10\n",
    "        self.d = 20\n",
    "        super(Child, self).__init__()\n",
    "\n",
    "o1 = Child()\n",
    "print dir(o1)"
   ]
  },
  {
   "cell_type": "code",
   "execution_count": 58,
   "metadata": {},
   "outputs": [
    {
     "name": "stdout",
     "output_type": "stream",
     "text": [
      "I am from parent\n",
      "['__class__', '__delattr__', '__dict__', '__doc__', '__format__', '__getattribute__', '__hash__', '__init__', '__module__', '__new__', '__reduce__', '__reduce_ex__', '__repr__', '__setattr__', '__sizeof__', '__str__', '__subclasshook__', '__weakref__', 'a', 'b', 'c', 'd', 'myfun']\n"
     ]
    }
   ],
   "source": [
    "class parent(object):\n",
    "    def __init__(self):\n",
    "        self.a = 10\n",
    "        self.b = 20\n",
    "    def myfun(self):\n",
    "        return \"I am from parent\"\n",
    "\n",
    "class Child(parent):\n",
    "    def __init__(self):\n",
    "        self.c = 10\n",
    "        self.d = 20\n",
    "        print self.myfun()\n",
    "        super(Child, self).__init__()\n",
    "        \n",
    "\n",
    "o1 = Child()\n",
    "print dir(o1)"
   ]
  },
  {
   "cell_type": "code",
   "execution_count": 59,
   "metadata": {},
   "outputs": [
    {
     "name": "stdout",
     "output_type": "stream",
     "text": [
      "I am from parent\n",
      "I am from child\n"
     ]
    }
   ],
   "source": [
    "class parent(object):\n",
    "    def __init__(self):\n",
    "        self.a = 10\n",
    "        self.b = 20\n",
    "    def myfun(self):\n",
    "        return \"I am from parent\"\n",
    "\n",
    "class Child(parent):\n",
    "    def __init__(self):\n",
    "        self.c = 10\n",
    "        self.d = 20\n",
    "        super(Child, self).__init__()\n",
    "    \n",
    "    def myfun(self):\n",
    "        print super(Child, self).myfun()\n",
    "        print \"I am from child\"\n",
    "        \n",
    "\n",
    "o1 = Child()\n",
    "o1.myfun()"
   ]
  },
  {
   "cell_type": "code",
   "execution_count": 60,
   "metadata": {},
   "outputs": [
    {
     "name": "stdout",
     "output_type": "stream",
     "text": [
      "20\n",
      "200\n"
     ]
    }
   ],
   "source": [
    "class Myclass(object):\n",
    "    def __init__(self):\n",
    "        self.a = 100\n",
    "    def myfun(self):\n",
    "        self.c = 200\n",
    "        return self.b\n",
    "\n",
    "class Child(Myclass):\n",
    "    def myfun(self):\n",
    "        self.b = 20\n",
    "        print super(Child, self).myfun()\n",
    "        print self.c\n",
    "o1 = Child()\n",
    "o1.myfun()"
   ]
  },
  {
   "cell_type": "code",
   "execution_count": 61,
   "metadata": {},
   "outputs": [
    {
     "ename": "AttributeError",
     "evalue": "'Child' object has no attribute 'b'",
     "output_type": "error",
     "traceback": [
      "\u001b[1;31m---------------------------------------------------------------------------\u001b[0m",
      "\u001b[1;31mAttributeError\u001b[0m                            Traceback (most recent call last)",
      "\u001b[1;32m<ipython-input-61-77b70944e68a>\u001b[0m in \u001b[0;36m<module>\u001b[1;34m()\u001b[0m\n\u001b[0;32m     12\u001b[0m         \u001b[0mself\u001b[0m\u001b[1;33m.\u001b[0m\u001b[0mb\u001b[0m \u001b[1;33m=\u001b[0m \u001b[1;36m20\u001b[0m\u001b[1;33m\u001b[0m\u001b[0m\n\u001b[0;32m     13\u001b[0m \u001b[0mo1\u001b[0m \u001b[1;33m=\u001b[0m \u001b[0mChild\u001b[0m\u001b[1;33m(\u001b[0m\u001b[1;33m)\u001b[0m\u001b[1;33m\u001b[0m\u001b[0m\n\u001b[1;32m---> 14\u001b[1;33m \u001b[0mo1\u001b[0m\u001b[1;33m.\u001b[0m\u001b[0mmyfun\u001b[0m\u001b[1;33m(\u001b[0m\u001b[1;33m)\u001b[0m\u001b[1;33m\u001b[0m\u001b[0m\n\u001b[0m",
      "\u001b[1;32m<ipython-input-61-77b70944e68a>\u001b[0m in \u001b[0;36mmyfun\u001b[1;34m(self)\u001b[0m\n\u001b[0;32m      8\u001b[0m \u001b[1;32mclass\u001b[0m \u001b[0mChild\u001b[0m\u001b[1;33m(\u001b[0m\u001b[0mMyclass\u001b[0m\u001b[1;33m)\u001b[0m\u001b[1;33m:\u001b[0m\u001b[1;33m\u001b[0m\u001b[0m\n\u001b[0;32m      9\u001b[0m     \u001b[1;32mdef\u001b[0m \u001b[0mmyfun\u001b[0m\u001b[1;33m(\u001b[0m\u001b[0mself\u001b[0m\u001b[1;33m)\u001b[0m\u001b[1;33m:\u001b[0m\u001b[1;33m\u001b[0m\u001b[0m\n\u001b[1;32m---> 10\u001b[1;33m         \u001b[1;32mprint\u001b[0m \u001b[0msuper\u001b[0m\u001b[1;33m(\u001b[0m\u001b[0mChild\u001b[0m\u001b[1;33m,\u001b[0m \u001b[0mself\u001b[0m\u001b[1;33m)\u001b[0m\u001b[1;33m.\u001b[0m\u001b[0mmyfun\u001b[0m\u001b[1;33m(\u001b[0m\u001b[1;33m)\u001b[0m\u001b[1;33m\u001b[0m\u001b[0m\n\u001b[0m\u001b[0;32m     11\u001b[0m         \u001b[1;32mprint\u001b[0m \u001b[0mself\u001b[0m\u001b[1;33m.\u001b[0m\u001b[0mc\u001b[0m\u001b[1;33m\u001b[0m\u001b[0m\n\u001b[0;32m     12\u001b[0m         \u001b[0mself\u001b[0m\u001b[1;33m.\u001b[0m\u001b[0mb\u001b[0m \u001b[1;33m=\u001b[0m \u001b[1;36m20\u001b[0m\u001b[1;33m\u001b[0m\u001b[0m\n",
      "\u001b[1;32m<ipython-input-61-77b70944e68a>\u001b[0m in \u001b[0;36mmyfun\u001b[1;34m(self)\u001b[0m\n\u001b[0;32m      4\u001b[0m     \u001b[1;32mdef\u001b[0m \u001b[0mmyfun\u001b[0m\u001b[1;33m(\u001b[0m\u001b[0mself\u001b[0m\u001b[1;33m)\u001b[0m\u001b[1;33m:\u001b[0m\u001b[1;33m\u001b[0m\u001b[0m\n\u001b[0;32m      5\u001b[0m         \u001b[0mself\u001b[0m\u001b[1;33m.\u001b[0m\u001b[0mc\u001b[0m \u001b[1;33m=\u001b[0m \u001b[1;36m200\u001b[0m\u001b[1;33m\u001b[0m\u001b[0m\n\u001b[1;32m----> 6\u001b[1;33m         \u001b[1;32mreturn\u001b[0m \u001b[0mself\u001b[0m\u001b[1;33m.\u001b[0m\u001b[0mb\u001b[0m\u001b[1;33m\u001b[0m\u001b[0m\n\u001b[0m\u001b[0;32m      7\u001b[0m \u001b[1;33m\u001b[0m\u001b[0m\n\u001b[0;32m      8\u001b[0m \u001b[1;32mclass\u001b[0m \u001b[0mChild\u001b[0m\u001b[1;33m(\u001b[0m\u001b[0mMyclass\u001b[0m\u001b[1;33m)\u001b[0m\u001b[1;33m:\u001b[0m\u001b[1;33m\u001b[0m\u001b[0m\n",
      "\u001b[1;31mAttributeError\u001b[0m: 'Child' object has no attribute 'b'"
     ]
    }
   ],
   "source": [
    "class Myclass(object):\n",
    "    def __init__(self):\n",
    "        self.a = 100\n",
    "    def myfun(self):\n",
    "        self.c = 200\n",
    "        return self.b\n",
    "\n",
    "class Child(Myclass):\n",
    "    def myfun(self):\n",
    "        print super(Child, self).myfun()\n",
    "        print self.c\n",
    "        self.b = 20\n",
    "o1 = Child()\n",
    "o1.myfun()"
   ]
  },
  {
   "cell_type": "code",
   "execution_count": 62,
   "metadata": {},
   "outputs": [
    {
     "ename": "AttributeError",
     "evalue": "'Child' object has no attribute 'c'",
     "output_type": "error",
     "traceback": [
      "\u001b[1;31m---------------------------------------------------------------------------\u001b[0m",
      "\u001b[1;31mAttributeError\u001b[0m                            Traceback (most recent call last)",
      "\u001b[1;32m<ipython-input-62-a09eb7a846f6>\u001b[0m in \u001b[0;36m<module>\u001b[1;34m()\u001b[0m\n\u001b[0;32m     12\u001b[0m         \u001b[0mself\u001b[0m\u001b[1;33m.\u001b[0m\u001b[0mb\u001b[0m \u001b[1;33m=\u001b[0m \u001b[1;36m20\u001b[0m\u001b[1;33m\u001b[0m\u001b[0m\n\u001b[0;32m     13\u001b[0m \u001b[0mo1\u001b[0m \u001b[1;33m=\u001b[0m \u001b[0mChild\u001b[0m\u001b[1;33m(\u001b[0m\u001b[1;33m)\u001b[0m\u001b[1;33m\u001b[0m\u001b[0m\n\u001b[1;32m---> 14\u001b[1;33m \u001b[0mo1\u001b[0m\u001b[1;33m.\u001b[0m\u001b[0mmyfun\u001b[0m\u001b[1;33m(\u001b[0m\u001b[1;33m)\u001b[0m\u001b[1;33m\u001b[0m\u001b[0m\n\u001b[0m",
      "\u001b[1;32m<ipython-input-62-a09eb7a846f6>\u001b[0m in \u001b[0;36mmyfun\u001b[1;34m(self)\u001b[0m\n\u001b[0;32m      8\u001b[0m \u001b[1;32mclass\u001b[0m \u001b[0mChild\u001b[0m\u001b[1;33m(\u001b[0m\u001b[0mMyclass\u001b[0m\u001b[1;33m)\u001b[0m\u001b[1;33m:\u001b[0m\u001b[1;33m\u001b[0m\u001b[0m\n\u001b[0;32m      9\u001b[0m     \u001b[1;32mdef\u001b[0m \u001b[0mmyfun\u001b[0m\u001b[1;33m(\u001b[0m\u001b[0mself\u001b[0m\u001b[1;33m)\u001b[0m\u001b[1;33m:\u001b[0m\u001b[1;33m\u001b[0m\u001b[0m\n\u001b[1;32m---> 10\u001b[1;33m         \u001b[1;32mprint\u001b[0m \u001b[0mself\u001b[0m\u001b[1;33m.\u001b[0m\u001b[0mc\u001b[0m\u001b[1;33m\u001b[0m\u001b[0m\n\u001b[0m\u001b[0;32m     11\u001b[0m         \u001b[1;32mprint\u001b[0m \u001b[0msuper\u001b[0m\u001b[1;33m(\u001b[0m\u001b[0mChild\u001b[0m\u001b[1;33m,\u001b[0m \u001b[0mself\u001b[0m\u001b[1;33m)\u001b[0m\u001b[1;33m.\u001b[0m\u001b[0mmyfun\u001b[0m\u001b[1;33m(\u001b[0m\u001b[1;33m)\u001b[0m\u001b[1;33m\u001b[0m\u001b[0m\n\u001b[0;32m     12\u001b[0m         \u001b[0mself\u001b[0m\u001b[1;33m.\u001b[0m\u001b[0mb\u001b[0m \u001b[1;33m=\u001b[0m \u001b[1;36m20\u001b[0m\u001b[1;33m\u001b[0m\u001b[0m\n",
      "\u001b[1;31mAttributeError\u001b[0m: 'Child' object has no attribute 'c'"
     ]
    }
   ],
   "source": [
    "class Myclass(object):\n",
    "    def __init__(self):\n",
    "        self.a = 100\n",
    "    def myfun(self):\n",
    "        self.c = 200\n",
    "        return self.b\n",
    "\n",
    "class Child(Myclass):\n",
    "    def myfun(self):\n",
    "        print self.c\n",
    "        print super(Child, self).myfun()\n",
    "        self.b = 20\n",
    "o1 = Child()\n",
    "o1.myfun()"
   ]
  },
  {
   "cell_type": "code",
   "execution_count": 63,
   "metadata": {},
   "outputs": [],
   "source": [
    "# Multiple inheritance"
   ]
  },
  {
   "cell_type": "code",
   "execution_count": 64,
   "metadata": {},
   "outputs": [
    {
     "name": "stdout",
     "output_type": "stream",
     "text": [
      "['__class__', '__delattr__', '__dict__', '__doc__', '__format__', '__getattribute__', '__hash__', '__init__', '__module__', '__new__', '__reduce__', '__reduce_ex__', '__repr__', '__setattr__', '__sizeof__', '__str__', '__subclasshook__', '__weakref__', 'myfun', 'myfun1']\n"
     ]
    }
   ],
   "source": [
    "class Myclass(object):\n",
    "    def myfun(self):\n",
    "        return \"I am from Myclass\"\n",
    "class Myclass1(object):\n",
    "    def myfun1(self):\n",
    "        return \"I am from class1\"\n",
    "class Child(Myclass, Myclass1):\n",
    "    pass\n",
    "\n",
    "o1 = Child()\n",
    "print dir(o1)"
   ]
  },
  {
   "cell_type": "code",
   "execution_count": 65,
   "metadata": {},
   "outputs": [
    {
     "name": "stdout",
     "output_type": "stream",
     "text": [
      "['__class__', '__delattr__', '__dict__', '__doc__', '__format__', '__getattribute__', '__hash__', '__init__', '__module__', '__new__', '__reduce__', '__reduce_ex__', '__repr__', '__setattr__', '__sizeof__', '__str__', '__subclasshook__', '__weakref__', 'myfun']\n"
     ]
    }
   ],
   "source": [
    "class Myclass(object):\n",
    "    def myfun(self):\n",
    "        return \"I am from Myclass\"\n",
    "class Myclass1(object):\n",
    "    def myfun(self):\n",
    "        return \"I am from class1\"\n",
    "class Child(Myclass, Myclass1):\n",
    "    pass\n",
    "\n",
    "o1 = Child()\n",
    "print dir(o1)"
   ]
  },
  {
   "cell_type": "code",
   "execution_count": 66,
   "metadata": {},
   "outputs": [
    {
     "name": "stdout",
     "output_type": "stream",
     "text": [
      "I am from Myclass\n"
     ]
    }
   ],
   "source": [
    "print o1.myfun()"
   ]
  },
  {
   "cell_type": "code",
   "execution_count": 67,
   "metadata": {},
   "outputs": [
    {
     "name": "stdout",
     "output_type": "stream",
     "text": [
      "['__class__', '__delattr__', '__dict__', '__doc__', '__format__', '__getattribute__', '__hash__', '__init__', '__module__', '__new__', '__reduce__', '__reduce_ex__', '__repr__', '__setattr__', '__sizeof__', '__str__', '__subclasshook__', '__weakref__', 'myfun']\n"
     ]
    }
   ],
   "source": [
    "class Myclass(object):\n",
    "    def myfun(self):\n",
    "        return \"I am from Myclass\"\n",
    "class Myclass1(object):\n",
    "    def myfun(self):\n",
    "        return \"I am from class1\"\n",
    "class Child(Myclass1, Myclass):\n",
    "    pass\n",
    "\n",
    "o1 = Child()\n",
    "print dir(o1)"
   ]
  },
  {
   "cell_type": "code",
   "execution_count": 68,
   "metadata": {},
   "outputs": [
    {
     "name": "stdout",
     "output_type": "stream",
     "text": [
      "I am from class1\n"
     ]
    }
   ],
   "source": [
    "print o1.myfun()"
   ]
  },
  {
   "cell_type": "code",
   "execution_count": 70,
   "metadata": {},
   "outputs": [
    {
     "name": "stdout",
     "output_type": "stream",
     "text": [
      "['__class__', '__delattr__', '__dict__', '__doc__', '__format__', '__getattribute__', '__hash__', '__init__', '__module__', '__new__', '__reduce__', '__reduce_ex__', '__repr__', '__setattr__', '__sizeof__', '__str__', '__subclasshook__', '__weakref__', 'myfun']\n"
     ]
    }
   ],
   "source": [
    "class Myclass(object):\n",
    "    def myfun(self):\n",
    "        return \"I am from Myclass\"\n",
    "class Myclass1(object):\n",
    "    def myfun(self):\n",
    "        return \"I am from class1\"\n",
    "class Child(Myclass1, Myclass):\n",
    "    def myfun(self):\n",
    "        print Myclass.myfun(self)\n",
    "        print Myclass1.myfun(self)\n",
    "\n",
    "o1 = Child()\n",
    "print dir(o1)"
   ]
  },
  {
   "cell_type": "code",
   "execution_count": 71,
   "metadata": {},
   "outputs": [
    {
     "name": "stdout",
     "output_type": "stream",
     "text": [
      "I am from Myclass\n",
      "I am from class1\n",
      "None\n"
     ]
    }
   ],
   "source": [
    "print o1.myfun()"
   ]
  },
  {
   "cell_type": "code",
   "execution_count": 72,
   "metadata": {},
   "outputs": [
    {
     "ename": "TypeError",
     "evalue": "Error when calling the metaclass bases\n    Cannot create a consistent method resolution\norder (MRO) for bases Myclass1, Myclass, object",
     "output_type": "error",
     "traceback": [
      "\u001b[1;31m---------------------------------------------------------------------------\u001b[0m",
      "\u001b[1;31mTypeError\u001b[0m                                 Traceback (most recent call last)",
      "\u001b[1;32m<ipython-input-72-ca7073967a47>\u001b[0m in \u001b[0;36m<module>\u001b[1;34m()\u001b[0m\n\u001b[0;32m      5\u001b[0m     \u001b[1;32mdef\u001b[0m \u001b[0mmyfun\u001b[0m\u001b[1;33m(\u001b[0m\u001b[0mself\u001b[0m\u001b[1;33m)\u001b[0m\u001b[1;33m:\u001b[0m\u001b[1;33m\u001b[0m\u001b[0m\n\u001b[0;32m      6\u001b[0m         \u001b[1;32mreturn\u001b[0m \u001b[1;34m\"I am from class1\"\u001b[0m\u001b[1;33m\u001b[0m\u001b[0m\n\u001b[1;32m----> 7\u001b[1;33m \u001b[1;32mclass\u001b[0m \u001b[0mChild\u001b[0m\u001b[1;33m(\u001b[0m\u001b[0mobject\u001b[0m\u001b[1;33m,\u001b[0m \u001b[0mMyclass1\u001b[0m\u001b[1;33m,\u001b[0m \u001b[0mMyclass\u001b[0m\u001b[1;33m)\u001b[0m\u001b[1;33m:\u001b[0m\u001b[1;33m\u001b[0m\u001b[0m\n\u001b[0m\u001b[0;32m      8\u001b[0m     \u001b[1;32mdef\u001b[0m \u001b[0mmyfun\u001b[0m\u001b[1;33m(\u001b[0m\u001b[0mself\u001b[0m\u001b[1;33m)\u001b[0m\u001b[1;33m:\u001b[0m\u001b[1;33m\u001b[0m\u001b[0m\n\u001b[0;32m      9\u001b[0m         \u001b[1;32mprint\u001b[0m \u001b[0mMyclass\u001b[0m\u001b[1;33m.\u001b[0m\u001b[0mmyfun\u001b[0m\u001b[1;33m(\u001b[0m\u001b[0mself\u001b[0m\u001b[1;33m)\u001b[0m\u001b[1;33m\u001b[0m\u001b[0m\n",
      "\u001b[1;31mTypeError\u001b[0m: Error when calling the metaclass bases\n    Cannot create a consistent method resolution\norder (MRO) for bases Myclass1, Myclass, object"
     ]
    }
   ],
   "source": [
    "class Myclass(object):\n",
    "    def myfun(self):\n",
    "        return \"I am from Myclass\"\n",
    "class Myclass1(object):\n",
    "    def myfun(self):\n",
    "        return \"I am from class1\"\n",
    "class Child(object, Myclass1, Myclass):\n",
    "    def myfun(self):\n",
    "        print Myclass.myfun(self)\n",
    "        print Myclass1.myfun(self)\n",
    "\n",
    "o1 = Child()\n",
    "print dir(o1)\n",
    "print o1.myfun()"
   ]
  },
  {
   "cell_type": "code",
   "execution_count": null,
   "metadata": {},
   "outputs": [],
   "source": []
  }
 ],
 "metadata": {
  "kernelspec": {
   "display_name": "Python 2",
   "language": "python",
   "name": "python2"
  },
  "language_info": {
   "codemirror_mode": {
    "name": "ipython",
    "version": 2
   },
   "file_extension": ".py",
   "mimetype": "text/x-python",
   "name": "python",
   "nbconvert_exporter": "python",
   "pygments_lexer": "ipython2",
   "version": "2.7.15"
  }
 },
 "nbformat": 4,
 "nbformat_minor": 2
}
