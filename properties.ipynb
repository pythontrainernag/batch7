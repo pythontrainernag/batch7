{
 "cells": [
  {
   "cell_type": "code",
   "execution_count": 1,
   "metadata": {},
   "outputs": [],
   "source": [
    "# python don't support overloading directly"
   ]
  },
  {
   "cell_type": "code",
   "execution_count": 3,
   "metadata": {},
   "outputs": [
    {
     "ename": "TypeError",
     "evalue": "myfun() takes exactly 2 arguments (1 given)",
     "output_type": "error",
     "traceback": [
      "\u001b[1;31m---------------------------------------------------------------------------\u001b[0m",
      "\u001b[1;31mTypeError\u001b[0m                                 Traceback (most recent call last)",
      "\u001b[1;32m<ipython-input-3-7fe13928a18f>\u001b[0m in \u001b[0;36m<module>\u001b[1;34m()\u001b[0m\n\u001b[0;32m      5\u001b[0m         \u001b[1;32mreturn\u001b[0m \u001b[1;34m\"2nd method\"\u001b[0m\u001b[1;33m\u001b[0m\u001b[0m\n\u001b[0;32m      6\u001b[0m \u001b[0mobj\u001b[0m \u001b[1;33m=\u001b[0m \u001b[0mMyclass\u001b[0m\u001b[1;33m(\u001b[0m\u001b[1;33m)\u001b[0m\u001b[1;33m\u001b[0m\u001b[0m\n\u001b[1;32m----> 7\u001b[1;33m \u001b[1;32mprint\u001b[0m \u001b[0mobj\u001b[0m\u001b[1;33m.\u001b[0m\u001b[0mmyfun\u001b[0m\u001b[1;33m(\u001b[0m\u001b[1;33m)\u001b[0m\u001b[1;33m\u001b[0m\u001b[0m\n\u001b[0m",
      "\u001b[1;31mTypeError\u001b[0m: myfun() takes exactly 2 arguments (1 given)"
     ]
    }
   ],
   "source": [
    "class Myclass():\n",
    "    def myfun(self):\n",
    "        return \"1st method\"\n",
    "    def myfun(self, x):\n",
    "        return \"2nd method\"\n",
    "obj = Myclass()\n",
    "print obj.myfun()"
   ]
  },
  {
   "cell_type": "code",
   "execution_count": 4,
   "metadata": {},
   "outputs": [
    {
     "name": "stdout",
     "output_type": "stream",
     "text": [
      "2nd method\n"
     ]
    }
   ],
   "source": [
    "class Myclass():\n",
    "    def myfun(self, *args, **a):\n",
    "        return \"2nd method\"\n",
    "obj = Myclass()\n",
    "print obj.myfun()"
   ]
  },
  {
   "cell_type": "code",
   "execution_count": 5,
   "metadata": {},
   "outputs": [
    {
     "name": "stdout",
     "output_type": "stream",
     "text": [
      "2nd method\n"
     ]
    }
   ],
   "source": [
    "print obj.myfun(3, 5, 8)"
   ]
  },
  {
   "cell_type": "markdown",
   "metadata": {},
   "source": [
    "# private variables"
   ]
  },
  {
   "cell_type": "code",
   "execution_count": 6,
   "metadata": {},
   "outputs": [],
   "source": [
    "class Details():\n",
    "    def __init__(self, name, address):\n",
    "        self.name = name\n",
    "        self.address = address\n",
    "        self.details = self.name + \" is staying at \"+ self.address"
   ]
  },
  {
   "cell_type": "code",
   "execution_count": 7,
   "metadata": {},
   "outputs": [],
   "source": [
    "class Details():\n",
    "    def __init__(self, name, address):\n",
    "        self.name = name\n",
    "        self.address = address\n",
    "        self.__details = self.name + \" is staying at \"+ self.address"
   ]
  },
  {
   "cell_type": "code",
   "execution_count": 8,
   "metadata": {},
   "outputs": [
    {
     "name": "stdout",
     "output_type": "stream",
     "text": [
      "Nag\n",
      "KPHB\n"
     ]
    },
    {
     "ename": "AttributeError",
     "evalue": "Details instance has no attribute '__details'",
     "output_type": "error",
     "traceback": [
      "\u001b[1;31m---------------------------------------------------------------------------\u001b[0m",
      "\u001b[1;31mAttributeError\u001b[0m                            Traceback (most recent call last)",
      "\u001b[1;32m<ipython-input-8-b7db1b020b3a>\u001b[0m in \u001b[0;36m<module>\u001b[1;34m()\u001b[0m\n\u001b[0;32m      2\u001b[0m \u001b[1;32mprint\u001b[0m \u001b[0mobj\u001b[0m\u001b[1;33m.\u001b[0m\u001b[0mname\u001b[0m\u001b[1;33m\u001b[0m\u001b[0m\n\u001b[0;32m      3\u001b[0m \u001b[1;32mprint\u001b[0m \u001b[0mobj\u001b[0m\u001b[1;33m.\u001b[0m\u001b[0maddress\u001b[0m\u001b[1;33m\u001b[0m\u001b[0m\n\u001b[1;32m----> 4\u001b[1;33m \u001b[1;32mprint\u001b[0m \u001b[0mobj\u001b[0m\u001b[1;33m.\u001b[0m\u001b[0m__details\u001b[0m\u001b[1;33m\u001b[0m\u001b[0m\n\u001b[0m",
      "\u001b[1;31mAttributeError\u001b[0m: Details instance has no attribute '__details'"
     ]
    }
   ],
   "source": [
    "obj = Details('Nag', 'KPHB')\n",
    "print obj.name\n",
    "print obj.address\n",
    "print obj.__details"
   ]
  },
  {
   "cell_type": "code",
   "execution_count": 9,
   "metadata": {},
   "outputs": [],
   "source": [
    "class Details():\n",
    "    def __init__(self, name, address):\n",
    "        self.name = name\n",
    "        self.address = address\n",
    "        self.__details = self.name + \" is staying at \"+ self.address\n",
    "    def get_details(self):\n",
    "        return self.__details"
   ]
  },
  {
   "cell_type": "code",
   "execution_count": 10,
   "metadata": {},
   "outputs": [
    {
     "name": "stdout",
     "output_type": "stream",
     "text": [
      "Nag\n",
      "KPHB\n",
      "Nag is staying at KPHB\n"
     ]
    }
   ],
   "source": [
    "obj = Details('Nag', 'KPHB')\n",
    "print obj.name\n",
    "print obj.address\n",
    "print obj.get_details()"
   ]
  },
  {
   "cell_type": "code",
   "execution_count": 11,
   "metadata": {},
   "outputs": [],
   "source": [
    "class Details():\n",
    "    def __init__(self, name, address):\n",
    "        self.name = name\n",
    "        self.address = address\n",
    "        self.__details = self.name + \" is staying at \"+ self.address\n",
    "    def get_details(self):\n",
    "        if self.name == 'Nag':\n",
    "            return self.__details\n",
    "        return \"unauthorised\""
   ]
  },
  {
   "cell_type": "code",
   "execution_count": 12,
   "metadata": {},
   "outputs": [
    {
     "name": "stdout",
     "output_type": "stream",
     "text": [
      "Nag\n",
      "KPHB\n",
      "Nag is staying at KPHB\n"
     ]
    }
   ],
   "source": [
    "obj = Details('Nag', 'KPHB')\n",
    "print obj.name\n",
    "print obj.address\n",
    "print obj.get_details()"
   ]
  },
  {
   "cell_type": "code",
   "execution_count": 13,
   "metadata": {},
   "outputs": [
    {
     "name": "stdout",
     "output_type": "stream",
     "text": [
      "Nag1\n",
      "KPHB\n",
      "unauthorised\n"
     ]
    }
   ],
   "source": [
    "obj = Details('Nag1', 'KPHB')\n",
    "print obj.name\n",
    "print obj.address\n",
    "print obj.get_details()"
   ]
  },
  {
   "cell_type": "code",
   "execution_count": 14,
   "metadata": {},
   "outputs": [],
   "source": [
    "class Details():\n",
    "    def __init__(self, name, address):\n",
    "        self.name = name\n",
    "        self.address = address\n",
    "        self.details = self.name + \" is staying at \"+ self.address"
   ]
  },
  {
   "cell_type": "code",
   "execution_count": 17,
   "metadata": {},
   "outputs": [
    {
     "name": "stdout",
     "output_type": "stream",
     "text": [
      "Nag\n",
      "KPHB\n",
      "Nag is staying at KPHB\n"
     ]
    }
   ],
   "source": [
    "obj = Details('Nag', 'KPHB')\n",
    "print obj.name\n",
    "print obj.address\n",
    "print obj.details"
   ]
  },
  {
   "cell_type": "code",
   "execution_count": 18,
   "metadata": {},
   "outputs": [
    {
     "name": "stdout",
     "output_type": "stream",
     "text": [
      "nageswar\n",
      "Nag is staying at KPHB\n"
     ]
    }
   ],
   "source": [
    "obj.name = 'nageswar'\n",
    "print obj.name\n",
    "print obj.details"
   ]
  },
  {
   "cell_type": "code",
   "execution_count": 19,
   "metadata": {},
   "outputs": [],
   "source": [
    "class Details():\n",
    "    def __init__(self, name, address):\n",
    "        self.name = name\n",
    "        self.address = address\n",
    "        #self.details = self.name + \" is staying at \"+ self.address\n",
    "    def get_details(self):\n",
    "        return self.name + \" is staying at \"+ self.address"
   ]
  },
  {
   "cell_type": "code",
   "execution_count": 21,
   "metadata": {},
   "outputs": [
    {
     "name": "stdout",
     "output_type": "stream",
     "text": [
      "Nag\n",
      "KPHB\n",
      "Nag is staying at KPHB\n",
      "nageswar\n",
      "nageswar is staying at KPHB\n"
     ]
    }
   ],
   "source": [
    "obj = Details('Nag', 'KPHB')\n",
    "print obj.name\n",
    "print obj.address\n",
    "print obj.get_details()\n",
    "obj.name = 'nageswar'\n",
    "print obj.name\n",
    "print obj.get_details()"
   ]
  },
  {
   "cell_type": "code",
   "execution_count": 23,
   "metadata": {},
   "outputs": [],
   "source": [
    "class Details():\n",
    "    def __init__(self, name, address):\n",
    "        self.name = name\n",
    "        self.address = address\n",
    "    @property\n",
    "    def details(self):\n",
    "        return self.name + \" is staying at \"+ self.address"
   ]
  },
  {
   "cell_type": "code",
   "execution_count": 24,
   "metadata": {},
   "outputs": [
    {
     "name": "stdout",
     "output_type": "stream",
     "text": [
      "Nag\n",
      "KPHB\n",
      "Nag is staying at KPHB\n",
      "nageswar\n",
      "nageswar is staying at KPHB\n"
     ]
    }
   ],
   "source": [
    "obj = Details('Nag', 'KPHB')\n",
    "print obj.name\n",
    "print obj.address\n",
    "print obj.details\n",
    "obj.name = 'nageswar'\n",
    "print obj.name\n",
    "print obj.details"
   ]
  },
  {
   "cell_type": "code",
   "execution_count": 40,
   "metadata": {},
   "outputs": [],
   "source": [
    "class Details():\n",
    "    def __init__(self, name, address):\n",
    "        self.name = name\n",
    "        self.address = address\n",
    "    @property\n",
    "    def details(self):\n",
    "        return self.name + \" is staying at \"+ self.address\n",
    "    @details.setter\n",
    "    def details(self, sentence):\n",
    "        data = sentence.split()\n",
    "        print sentence\n",
    "        self.name = data[0]\n",
    "        self.address = data[-1]\n",
    "        print self.name, self.address"
   ]
  },
  {
   "cell_type": "code",
   "execution_count": 41,
   "metadata": {},
   "outputs": [
    {
     "name": "stdout",
     "output_type": "stream",
     "text": [
      "Nag\n",
      "KPHB\n",
      "Nag is staying at KPHB\n"
     ]
    }
   ],
   "source": [
    "obj = Details('Nag', 'KPHB')\n",
    "print obj.name\n",
    "print obj.address\n",
    "print obj.details"
   ]
  },
  {
   "cell_type": "code",
   "execution_count": 42,
   "metadata": {},
   "outputs": [
    {
     "name": "stdout",
     "output_type": "stream",
     "text": [
      "Nag\n",
      "KPHB\n",
      "nageswar is staying at Ameerpet\n"
     ]
    }
   ],
   "source": [
    "obj.details = \"nageswar is staying at Ameerpet\"\n",
    "print obj.name\n",
    "print obj.address\n",
    "print obj.details"
   ]
  },
  {
   "cell_type": "code",
   "execution_count": null,
   "metadata": {},
   "outputs": [],
   "source": []
  },
  {
   "cell_type": "code",
   "execution_count": null,
   "metadata": {},
   "outputs": [],
   "source": []
  }
 ],
 "metadata": {
  "kernelspec": {
   "display_name": "Python 2",
   "language": "python",
   "name": "python2"
  },
  "language_info": {
   "codemirror_mode": {
    "name": "ipython",
    "version": 2
   },
   "file_extension": ".py",
   "mimetype": "text/x-python",
   "name": "python",
   "nbconvert_exporter": "python",
   "pygments_lexer": "ipython2",
   "version": "2.7.15"
  }
 },
 "nbformat": 4,
 "nbformat_minor": 2
}
