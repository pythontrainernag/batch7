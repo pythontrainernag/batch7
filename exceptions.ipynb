{
 "cells": [
  {
   "cell_type": "code",
   "execution_count": 1,
   "metadata": {},
   "outputs": [
    {
     "name": "stdout",
     "output_type": "stream",
     "text": [
      "enter first value 5\n",
      "enter second value 6\n"
     ]
    }
   ],
   "source": [
    "a = raw_input(\"enter first value \")\n",
    "b = raw_input(\"enter second value \")"
   ]
  },
  {
   "cell_type": "code",
   "execution_count": 2,
   "metadata": {},
   "outputs": [],
   "source": [
    "a = int(a)\n",
    "b = int(b)"
   ]
  },
  {
   "cell_type": "code",
   "execution_count": 3,
   "metadata": {},
   "outputs": [
    {
     "name": "stdout",
     "output_type": "stream",
     "text": [
      "enter first value t\n",
      "enter second value 6\n"
     ]
    },
    {
     "ename": "ValueError",
     "evalue": "invalid literal for int() with base 10: 't'",
     "output_type": "error",
     "traceback": [
      "\u001b[1;31m---------------------------------------------------------------------------\u001b[0m",
      "\u001b[1;31mValueError\u001b[0m                                Traceback (most recent call last)",
      "\u001b[1;32m<ipython-input-3-fcfe0ccc31b2>\u001b[0m in \u001b[0;36m<module>\u001b[1;34m()\u001b[0m\n\u001b[0;32m      1\u001b[0m \u001b[0ma\u001b[0m \u001b[1;33m=\u001b[0m \u001b[0mraw_input\u001b[0m\u001b[1;33m(\u001b[0m\u001b[1;34m\"enter first value \"\u001b[0m\u001b[1;33m)\u001b[0m\u001b[1;33m\u001b[0m\u001b[0m\n\u001b[0;32m      2\u001b[0m \u001b[0mb\u001b[0m \u001b[1;33m=\u001b[0m \u001b[0mraw_input\u001b[0m\u001b[1;33m(\u001b[0m\u001b[1;34m\"enter second value \"\u001b[0m\u001b[1;33m)\u001b[0m\u001b[1;33m\u001b[0m\u001b[0m\n\u001b[1;32m----> 3\u001b[1;33m \u001b[0ma\u001b[0m \u001b[1;33m=\u001b[0m \u001b[0mint\u001b[0m\u001b[1;33m(\u001b[0m\u001b[0ma\u001b[0m\u001b[1;33m)\u001b[0m\u001b[1;33m\u001b[0m\u001b[0m\n\u001b[0m\u001b[0;32m      4\u001b[0m \u001b[0mb\u001b[0m \u001b[1;33m=\u001b[0m \u001b[0mint\u001b[0m\u001b[1;33m(\u001b[0m\u001b[0mb\u001b[0m\u001b[1;33m)\u001b[0m\u001b[1;33m\u001b[0m\u001b[0m\n",
      "\u001b[1;31mValueError\u001b[0m: invalid literal for int() with base 10: 't'"
     ]
    }
   ],
   "source": [
    "a = raw_input(\"enter first value \")\n",
    "b = raw_input(\"enter second value \")\n",
    "a = int(a)\n",
    "b = int(b)"
   ]
  },
  {
   "cell_type": "code",
   "execution_count": 4,
   "metadata": {},
   "outputs": [
    {
     "name": "stdout",
     "output_type": "stream",
     "text": [
      "enter first value 5\n",
      "enter second value 0\n"
     ]
    }
   ],
   "source": [
    "a = raw_input(\"enter first value \")\n",
    "b = raw_input(\"enter second value \")\n",
    "a = int(a)\n",
    "b = int(b)"
   ]
  },
  {
   "cell_type": "code",
   "execution_count": 5,
   "metadata": {},
   "outputs": [
    {
     "ename": "ZeroDivisionError",
     "evalue": "integer division or modulo by zero",
     "output_type": "error",
     "traceback": [
      "\u001b[1;31m---------------------------------------------------------------------------\u001b[0m",
      "\u001b[1;31mZeroDivisionError\u001b[0m                         Traceback (most recent call last)",
      "\u001b[1;32m<ipython-input-5-8a4db393c982>\u001b[0m in \u001b[0;36m<module>\u001b[1;34m()\u001b[0m\n\u001b[1;32m----> 1\u001b[1;33m \u001b[1;32mprint\u001b[0m \u001b[0ma\u001b[0m\u001b[1;33m/\u001b[0m\u001b[0mb\u001b[0m\u001b[1;33m\u001b[0m\u001b[0m\n\u001b[0m",
      "\u001b[1;31mZeroDivisionError\u001b[0m: integer division or modulo by zero"
     ]
    }
   ],
   "source": [
    "print a/b"
   ]
  },
  {
   "cell_type": "code",
   "execution_count": 6,
   "metadata": {},
   "outputs": [
    {
     "name": "stdout",
     "output_type": "stream",
     "text": [
      "enter first value 5.5\n",
      "enter second value 6\n"
     ]
    },
    {
     "ename": "ValueError",
     "evalue": "invalid literal for int() with base 10: '5.5'",
     "output_type": "error",
     "traceback": [
      "\u001b[1;31m---------------------------------------------------------------------------\u001b[0m",
      "\u001b[1;31mValueError\u001b[0m                                Traceback (most recent call last)",
      "\u001b[1;32m<ipython-input-6-fcfe0ccc31b2>\u001b[0m in \u001b[0;36m<module>\u001b[1;34m()\u001b[0m\n\u001b[0;32m      1\u001b[0m \u001b[0ma\u001b[0m \u001b[1;33m=\u001b[0m \u001b[0mraw_input\u001b[0m\u001b[1;33m(\u001b[0m\u001b[1;34m\"enter first value \"\u001b[0m\u001b[1;33m)\u001b[0m\u001b[1;33m\u001b[0m\u001b[0m\n\u001b[0;32m      2\u001b[0m \u001b[0mb\u001b[0m \u001b[1;33m=\u001b[0m \u001b[0mraw_input\u001b[0m\u001b[1;33m(\u001b[0m\u001b[1;34m\"enter second value \"\u001b[0m\u001b[1;33m)\u001b[0m\u001b[1;33m\u001b[0m\u001b[0m\n\u001b[1;32m----> 3\u001b[1;33m \u001b[0ma\u001b[0m \u001b[1;33m=\u001b[0m \u001b[0mint\u001b[0m\u001b[1;33m(\u001b[0m\u001b[0ma\u001b[0m\u001b[1;33m)\u001b[0m\u001b[1;33m\u001b[0m\u001b[0m\n\u001b[0m\u001b[0;32m      4\u001b[0m \u001b[0mb\u001b[0m \u001b[1;33m=\u001b[0m \u001b[0mint\u001b[0m\u001b[1;33m(\u001b[0m\u001b[0mb\u001b[0m\u001b[1;33m)\u001b[0m\u001b[1;33m\u001b[0m\u001b[0m\n",
      "\u001b[1;31mValueError\u001b[0m: invalid literal for int() with base 10: '5.5'"
     ]
    }
   ],
   "source": [
    "a = raw_input(\"enter first value \")\n",
    "b = raw_input(\"enter second value \")\n",
    "a = int(a)\n",
    "b = int(b)"
   ]
  },
  {
   "cell_type": "code",
   "execution_count": 7,
   "metadata": {},
   "outputs": [
    {
     "name": "stdout",
     "output_type": "stream",
     "text": [
      "enter first value 5\n",
      "enter second value t\n",
      "Please enter numbers decimal numbers\n",
      "could not convert string to float: t\n"
     ]
    }
   ],
   "source": [
    "a = raw_input(\"enter first value \")\n",
    "b = raw_input(\"enter second value \")\n",
    "try:\n",
    "    a = float(a)\n",
    "    b = float(b)\n",
    "    print a/b\n",
    "except Exception as e:\n",
    "    print \"Please enter numbers decimal numbers\"\n",
    "    print e"
   ]
  },
  {
   "cell_type": "code",
   "execution_count": 8,
   "metadata": {},
   "outputs": [
    {
     "name": "stdout",
     "output_type": "stream",
     "text": [
      "<type 'str'>\n"
     ]
    }
   ],
   "source": [
    "print type(b)"
   ]
  },
  {
   "cell_type": "code",
   "execution_count": 9,
   "metadata": {},
   "outputs": [
    {
     "name": "stdout",
     "output_type": "stream",
     "text": [
      "<type 'float'>\n"
     ]
    }
   ],
   "source": [
    "print type(a)"
   ]
  },
  {
   "cell_type": "code",
   "execution_count": 10,
   "metadata": {},
   "outputs": [
    {
     "name": "stdout",
     "output_type": "stream",
     "text": [
      "enter first value 5\n",
      "enter second value 6\n",
      "0.833333333333\n"
     ]
    }
   ],
   "source": [
    "a = raw_input(\"enter first value \")\n",
    "b = raw_input(\"enter second value \")\n",
    "try:\n",
    "    a = float(a)\n",
    "    b = float(b)\n",
    "    print a/b\n",
    "except Exception as e:\n",
    "    print \"Please enter numbers decimal numbers\"\n",
    "    print e"
   ]
  },
  {
   "cell_type": "code",
   "execution_count": 12,
   "metadata": {},
   "outputs": [
    {
     "name": "stdout",
     "output_type": "stream",
     "text": [
      "enter first value t\n",
      "enter second value 6\n",
      "Please enter numbers or decimal numbers\n",
      "could not convert string to float: t\n"
     ]
    }
   ],
   "source": [
    "a = raw_input(\"enter first value \")\n",
    "b = raw_input(\"enter second value \")\n",
    "try:\n",
    "    a = float(a)\n",
    "    b = float(b)\n",
    "    print a/b\n",
    "except Exception as e:\n",
    "    print \"Please enter numbers or decimal numbers\"\n",
    "    print e"
   ]
  },
  {
   "cell_type": "code",
   "execution_count": 13,
   "metadata": {},
   "outputs": [
    {
     "name": "stdout",
     "output_type": "stream",
     "text": [
      "enter first value 5\n",
      "enter second value 0\n",
      "Please enter numbers or decimal numbers\n",
      "float division by zero\n"
     ]
    }
   ],
   "source": [
    "a = raw_input(\"enter first value \")\n",
    "b = raw_input(\"enter second value \")\n",
    "try:\n",
    "    a = float(a)\n",
    "    b = float(b)\n",
    "    print a/b\n",
    "except Exception as e:\n",
    "    print \"Please enter numbers or decimal numbers\"\n",
    "    print e"
   ]
  },
  {
   "cell_type": "code",
   "execution_count": 14,
   "metadata": {},
   "outputs": [
    {
     "name": "stdout",
     "output_type": "stream",
     "text": [
      "enter first value 5\n",
      "enter second value qwe\n",
      "Please enter numbers or decimal numbers\n",
      "could not convert string to float: qwe\n"
     ]
    }
   ],
   "source": [
    "a = raw_input(\"enter first value \")\n",
    "b = raw_input(\"enter second value \")\n",
    "try:\n",
    "    a = float(a)\n",
    "    b = float(b)\n",
    "    print a/b\n",
    "except ValueError as e:\n",
    "    print \"Please enter numbers or decimal numbers\"\n",
    "    print e\n",
    "except ZeroDivisionError as er:\n",
    "    print \"denominator can't be zero\"\n",
    "    print e"
   ]
  },
  {
   "cell_type": "code",
   "execution_count": 15,
   "metadata": {},
   "outputs": [
    {
     "name": "stdout",
     "output_type": "stream",
     "text": [
      "enter first value 5\n",
      "enter second value 0\n",
      "denominator can't be zero\n",
      "could not convert string to float: qwe\n"
     ]
    }
   ],
   "source": [
    "a = raw_input(\"enter first value \")\n",
    "b = raw_input(\"enter second value \")\n",
    "try:\n",
    "    a = float(a)\n",
    "    b = float(b)\n",
    "    print a/b\n",
    "except ValueError as e:\n",
    "    print \"Please enter numbers or decimal numbers\"\n",
    "    print e\n",
    "except ZeroDivisionError as er:\n",
    "    print \"denominator can't be zero\"\n",
    "    print e"
   ]
  },
  {
   "cell_type": "code",
   "execution_count": 1,
   "metadata": {},
   "outputs": [
    {
     "name": "stdout",
     "output_type": "stream",
     "text": [
      "enter first value 5\n",
      "enter second value twe\n",
      "some error has been occured\n"
     ]
    }
   ],
   "source": [
    "a = raw_input(\"enter first value \")\n",
    "b = raw_input(\"enter second value \")\n",
    "try:\n",
    "    a = float(a)\n",
    "    b = float(b)\n",
    "    print a/b\n",
    "except Exception as e:\n",
    "    print \"some error has been occured\"\n",
    "except ValueError as e:\n",
    "    print \"Please enter numbers or decimal numbers\"\n",
    "    print e\n",
    "except ZeroDivisionError as er:\n",
    "    print \"denominator can't be zero\"\n",
    "    print e"
   ]
  },
  {
   "cell_type": "code",
   "execution_count": 2,
   "metadata": {
    "scrolled": true
   },
   "outputs": [
    {
     "name": "stdout",
     "output_type": "stream",
     "text": [
      "enter first value 5\n",
      "enter second value er\n",
      "Please enter numbers or decimal numbers\n",
      "could not convert string to float: er\n"
     ]
    }
   ],
   "source": [
    "a = raw_input(\"enter first value \")\n",
    "b = raw_input(\"enter second value \")\n",
    "try:\n",
    "    a = float(a)\n",
    "    b = float(b)\n",
    "    print a/b\n",
    "except ValueError as e:\n",
    "    print \"Please enter numbers or decimal numbers\"\n",
    "    print e\n",
    "except ZeroDivisionError as er:\n",
    "    print \"denominator can't be zero\"\n",
    "    print e\n",
    "except Exception as e:\n",
    "    print \"some error has been occured\""
   ]
  },
  {
   "cell_type": "code",
   "execution_count": 3,
   "metadata": {},
   "outputs": [
    {
     "name": "stdout",
     "output_type": "stream",
     "text": [
      "enter first value 5\n",
      "enter second value 0\n",
      "denominator can't be zero\n",
      "could not convert string to float: er\n"
     ]
    }
   ],
   "source": [
    "a = raw_input(\"enter first value \")\n",
    "b = raw_input(\"enter second value \")\n",
    "try:\n",
    "    a = float(a)\n",
    "    b = float(b)\n",
    "    print a/b\n",
    "except ValueError as e:\n",
    "    print \"Please enter numbers or decimal numbers\"\n",
    "    print e\n",
    "except ZeroDivisionError as er:\n",
    "    print \"denominator can't be zero\"\n",
    "    print e\n",
    "except Exception as e:\n",
    "    print \"some error has been occured\""
   ]
  },
  {
   "cell_type": "code",
   "execution_count": 4,
   "metadata": {},
   "outputs": [
    {
     "name": "stdout",
     "output_type": "stream",
     "text": [
      "enter first value 5\n",
      "enter second value 6\n",
      "0.833333333333\n"
     ]
    }
   ],
   "source": [
    "a = raw_input(\"enter first value \")\n",
    "b = raw_input(\"enter second value \")\n",
    "try:\n",
    "    a = float(a)\n",
    "    b = float(b)\n",
    "    print a/b\n",
    "except ValueError as e:\n",
    "    print \"Please enter either numbers or decimal numbers\"\n",
    "    a = float(raw_input(\"enter first values as number \"))\n",
    "    b = float(raw_input(\"enter second value as number \"))\n",
    "    print a/b\n",
    "except ZeroDivisionError as er:\n",
    "    print \"denominator can't be zero\"\n",
    "    b = float(raw_input(\"enter a denominator other than zero \"))\n",
    "    print a/b\n",
    "except Exception as e:\n",
    "    print \"some error has been occured\""
   ]
  },
  {
   "cell_type": "code",
   "execution_count": 5,
   "metadata": {},
   "outputs": [
    {
     "name": "stdout",
     "output_type": "stream",
     "text": [
      "enter first value r\n",
      "enter second value 6\n",
      "Please enter either numbers or decimal numbers\n",
      "enter first values as number 5\n",
      "enter second value as number 6\n",
      "0.833333333333\n"
     ]
    }
   ],
   "source": [
    "a = raw_input(\"enter first value \")\n",
    "b = raw_input(\"enter second value \")\n",
    "try:\n",
    "    a = float(a)\n",
    "    b = float(b)\n",
    "    print a/b\n",
    "except ValueError as e:\n",
    "    print \"Please enter either numbers or decimal numbers\"\n",
    "    a = float(raw_input(\"enter first values as number \"))\n",
    "    b = float(raw_input(\"enter second value as number \"))\n",
    "    print a/b\n",
    "except ZeroDivisionError as er:\n",
    "    print \"denominator can't be zero\"\n",
    "    b = float(raw_input(\"enter a denominator other than zero \"))\n",
    "    print a/b\n",
    "except Exception as e:\n",
    "    print \"some error has been occured\""
   ]
  },
  {
   "cell_type": "code",
   "execution_count": 6,
   "metadata": {},
   "outputs": [
    {
     "name": "stdout",
     "output_type": "stream",
     "text": [
      "enter first value 5\n",
      "enter second value 0\n",
      "denominator can't be zero\n",
      "enter a denominator other than zero 6\n",
      "0.833333333333\n"
     ]
    }
   ],
   "source": [
    "a = raw_input(\"enter first value \")\n",
    "b = raw_input(\"enter second value \")\n",
    "try:\n",
    "    a = float(a)\n",
    "    b = float(b)\n",
    "    print a/b\n",
    "except ValueError as e:\n",
    "    print \"Please enter either numbers or decimal numbers\"\n",
    "    a = float(raw_input(\"enter first values as number \"))\n",
    "    b = float(raw_input(\"enter second value as number \"))\n",
    "    print a/b\n",
    "except ZeroDivisionError as er:\n",
    "    print \"denominator can't be zero\"\n",
    "    b = float(raw_input(\"enter a denominator other than zero \"))\n",
    "    print a/b\n",
    "except Exception as e:\n",
    "    print \"some error has been occured\""
   ]
  },
  {
   "cell_type": "code",
   "execution_count": 7,
   "metadata": {},
   "outputs": [
    {
     "ename": "TypeError",
     "evalue": "unsupported operand type(s) for +: 'int' and 'str'",
     "output_type": "error",
     "traceback": [
      "\u001b[1;31m---------------------------------------------------------------------------\u001b[0m",
      "\u001b[1;31mTypeError\u001b[0m                                 Traceback (most recent call last)",
      "\u001b[1;32m<ipython-input-7-ecda115a74dd>\u001b[0m in \u001b[0;36m<module>\u001b[1;34m()\u001b[0m\n\u001b[1;32m----> 1\u001b[1;33m \u001b[1;36m5\u001b[0m\u001b[1;33m+\u001b[0m\u001b[1;34m'a'\u001b[0m\u001b[1;33m\u001b[0m\u001b[0m\n\u001b[0m",
      "\u001b[1;31mTypeError\u001b[0m: unsupported operand type(s) for +: 'int' and 'str'"
     ]
    }
   ],
   "source": [
    "5+'a'"
   ]
  },
  {
   "cell_type": "code",
   "execution_count": 11,
   "metadata": {},
   "outputs": [
    {
     "name": "stdout",
     "output_type": "stream",
     "text": [
      "enter first value 5\n",
      "enter second value 0\n",
      "denominator can't be zero\n",
      "enter a denominator other than zero 6\n",
      "0.833333333333\n"
     ]
    }
   ],
   "source": [
    "a = raw_input(\"enter first value \")\n",
    "b = raw_input(\"enter second value \")\n",
    "try:\n",
    "    a = float(a)\n",
    "    b = float(b)\n",
    "    if b == 0.0:\n",
    "        raise ZeroDivisionError(\"denominator can't be zero\")\n",
    "except ValueError as e:\n",
    "    print \"Please enter either numbers or decimal numbers\"\n",
    "    a = float(raw_input(\"enter first values as number \"))\n",
    "    b = float(raw_input(\"enter second value as number \"))\n",
    "except ZeroDivisionError as er:\n",
    "    print \"denominator can't be zero\"\n",
    "    b = float(raw_input(\"enter a denominator other than zero \"))\n",
    "finally:\n",
    "    print a/b"
   ]
  },
  {
   "cell_type": "code",
   "execution_count": 12,
   "metadata": {},
   "outputs": [
    {
     "name": "stdout",
     "output_type": "stream",
     "text": [
      "enter first value 5\n",
      "enter second value rt\n",
      "Please enter either numbers or decimal numbers\n",
      "enter first values as number 5\n",
      "enter second value as number 6\n",
      "0.833333333333\n"
     ]
    }
   ],
   "source": [
    "a = raw_input(\"enter first value \")\n",
    "b = raw_input(\"enter second value \")\n",
    "try:\n",
    "    a = float(a)\n",
    "    b = float(b)\n",
    "    if b == 0.0:\n",
    "        raise ZeroDivisionError(\"denominator can't be zero\")\n",
    "except ValueError as e:\n",
    "    print \"Please enter either numbers or decimal numbers\"\n",
    "    a = float(raw_input(\"enter first values as number \"))\n",
    "    b = float(raw_input(\"enter second value as number \"))\n",
    "except ZeroDivisionError as er:\n",
    "    print \"denominator can't be zero\"\n",
    "    b = float(raw_input(\"enter a denominator other than zero \"))\n",
    "finally:\n",
    "    print a/b"
   ]
  },
  {
   "cell_type": "code",
   "execution_count": 13,
   "metadata": {},
   "outputs": [
    {
     "name": "stdout",
     "output_type": "stream",
     "text": [
      "enter first value 6\n",
      "enter second value 5\n",
      "1.2\n"
     ]
    }
   ],
   "source": [
    "a = raw_input(\"enter first value \")\n",
    "b = raw_input(\"enter second value \")\n",
    "try:\n",
    "    a = float(a)\n",
    "    b = float(b)\n",
    "    if b == 0.0:\n",
    "        raise ZeroDivisionError(\"denominator can't be zero\")\n",
    "except ValueError as e:\n",
    "    print \"Please enter either numbers or decimal numbers\"\n",
    "    a = float(raw_input(\"enter first values as number \"))\n",
    "    b = float(raw_input(\"enter second value as number \"))\n",
    "except ZeroDivisionError as er:\n",
    "    print \"denominator can't be zero\"\n",
    "    b = float(raw_input(\"enter a denominator other than zero \"))\n",
    "print a/b"
   ]
  },
  {
   "cell_type": "code",
   "execution_count": 14,
   "metadata": {},
   "outputs": [
    {
     "name": "stdout",
     "output_type": "stream",
     "text": [
      "enter first value 5\n",
      "enter second value 0\n",
      "denominator can't be zero\n",
      "enter a denominator other than zero 4\n",
      "1.25\n"
     ]
    }
   ],
   "source": [
    "a = raw_input(\"enter first value \")\n",
    "b = raw_input(\"enter second value \")\n",
    "try:\n",
    "    a = float(a)\n",
    "    b = float(b)\n",
    "    if b == 0.0:\n",
    "        raise ZeroDivisionError(\"denominator can't be zero\")\n",
    "except ValueError as e:\n",
    "    print \"Please enter either numbers or decimal numbers\"\n",
    "    a = float(raw_input(\"enter first values as number \"))\n",
    "    b = float(raw_input(\"enter second value as number \"))\n",
    "except ZeroDivisionError as er:\n",
    "    print \"denominator can't be zero\"\n",
    "    b = float(raw_input(\"enter a denominator other than zero \"))\n",
    "print a/b"
   ]
  },
  {
   "cell_type": "code",
   "execution_count": 15,
   "metadata": {},
   "outputs": [
    {
     "name": "stdout",
     "output_type": "stream",
     "text": [
      "10\n"
     ]
    }
   ],
   "source": [
    "def myfun():\n",
    "    try:\n",
    "        return 10\n",
    "    except:\n",
    "        return 20\n",
    "    return 30\n",
    "print myfun()"
   ]
  },
  {
   "cell_type": "code",
   "execution_count": 16,
   "metadata": {},
   "outputs": [
    {
     "name": "stdout",
     "output_type": "stream",
     "text": [
      "20\n"
     ]
    }
   ],
   "source": [
    "def myfun():\n",
    "    try:\n",
    "        2/0\n",
    "        return 10\n",
    "    except:\n",
    "        return 20\n",
    "    return 30\n",
    "print myfun()"
   ]
  },
  {
   "cell_type": "code",
   "execution_count": 17,
   "metadata": {},
   "outputs": [
    {
     "name": "stdout",
     "output_type": "stream",
     "text": [
      "30\n"
     ]
    }
   ],
   "source": [
    "def myfun():\n",
    "    try:\n",
    "        2/0\n",
    "        return 10\n",
    "    except:\n",
    "        return 20\n",
    "    finally:\n",
    "        return 30\n",
    "print myfun()"
   ]
  },
  {
   "cell_type": "code",
   "execution_count": 18,
   "metadata": {},
   "outputs": [
    {
     "name": "stdout",
     "output_type": "stream",
     "text": [
      "30\n"
     ]
    }
   ],
   "source": [
    "def myfun():\n",
    "    try:\n",
    "        return 10\n",
    "    except:\n",
    "        return 20\n",
    "    finally:\n",
    "        return 30\n",
    "print myfun()"
   ]
  },
  {
   "cell_type": "code",
   "execution_count": 19,
   "metadata": {},
   "outputs": [
    {
     "ename": "IOError",
     "evalue": "[Errno 2] No such file or directory: 'veg1.txt'",
     "output_type": "error",
     "traceback": [
      "\u001b[1;31m---------------------------------------------------------------------------\u001b[0m",
      "\u001b[1;31mIOError\u001b[0m                                   Traceback (most recent call last)",
      "\u001b[1;32m<ipython-input-19-acdf2a6dd8c0>\u001b[0m in \u001b[0;36m<module>\u001b[1;34m()\u001b[0m\n\u001b[1;32m----> 1\u001b[1;33m \u001b[0mf\u001b[0m \u001b[1;33m=\u001b[0m \u001b[0mopen\u001b[0m\u001b[1;33m(\u001b[0m\u001b[1;34m'veg1.txt'\u001b[0m\u001b[1;33m,\u001b[0m \u001b[1;34m'r'\u001b[0m\u001b[1;33m)\u001b[0m\u001b[1;33m\u001b[0m\u001b[0m\n\u001b[0m",
      "\u001b[1;31mIOError\u001b[0m: [Errno 2] No such file or directory: 'veg1.txt'"
     ]
    }
   ],
   "source": [
    "f = open('veg1.txt', 'r')"
   ]
  },
  {
   "cell_type": "code",
   "execution_count": 21,
   "metadata": {},
   "outputs": [
    {
     "name": "stdout",
     "output_type": "stream",
     "text": [
      "['tomato,25.5\\n', 'onion,50\\n', 'carrot,10o']\n"
     ]
    }
   ],
   "source": [
    "f = open('veg.txt', 'r')\n",
    "data = f.readlines()\n",
    "print data"
   ]
  },
  {
   "cell_type": "code",
   "execution_count": 22,
   "metadata": {},
   "outputs": [],
   "source": [
    "data = [x.split(',') for x in data]"
   ]
  },
  {
   "cell_type": "code",
   "execution_count": 23,
   "metadata": {},
   "outputs": [
    {
     "name": "stdout",
     "output_type": "stream",
     "text": [
      "[['tomato', '25.5\\n'], ['onion', '50\\n'], ['carrot', '10o']]\n"
     ]
    }
   ],
   "source": [
    "print data"
   ]
  },
  {
   "cell_type": "code",
   "execution_count": 24,
   "metadata": {},
   "outputs": [
    {
     "ename": "ValueError",
     "evalue": "invalid literal for float(): 10o",
     "output_type": "error",
     "traceback": [
      "\u001b[1;31m---------------------------------------------------------------------------\u001b[0m",
      "\u001b[1;31mValueError\u001b[0m                                Traceback (most recent call last)",
      "\u001b[1;32m<ipython-input-24-9e04bb90a731>\u001b[0m in \u001b[0;36m<module>\u001b[1;34m()\u001b[0m\n\u001b[0;32m      1\u001b[0m \u001b[1;32mfor\u001b[0m \u001b[0mx\u001b[0m \u001b[1;32min\u001b[0m \u001b[0mdata\u001b[0m\u001b[1;33m:\u001b[0m\u001b[1;33m\u001b[0m\u001b[0m\n\u001b[1;32m----> 2\u001b[1;33m     \u001b[0mx\u001b[0m\u001b[1;33m[\u001b[0m\u001b[1;36m1\u001b[0m\u001b[1;33m]\u001b[0m \u001b[1;33m=\u001b[0m \u001b[0mfloat\u001b[0m\u001b[1;33m(\u001b[0m\u001b[0mx\u001b[0m\u001b[1;33m[\u001b[0m\u001b[1;36m1\u001b[0m\u001b[1;33m]\u001b[0m\u001b[1;33m)\u001b[0m\u001b[1;33m\u001b[0m\u001b[0m\n\u001b[0m",
      "\u001b[1;31mValueError\u001b[0m: invalid literal for float(): 10o"
     ]
    }
   ],
   "source": [
    "for x in data:\n",
    "    x[1] = float(x[1])"
   ]
  },
  {
   "cell_type": "code",
   "execution_count": 25,
   "metadata": {},
   "outputs": [],
   "source": [
    "#custom exceptions"
   ]
  },
  {
   "cell_type": "code",
   "execution_count": 1,
   "metadata": {},
   "outputs": [],
   "source": [
    "class Base(Exception):\n",
    "    pass\n",
    "class InvalidUser(Base):\n",
    "    def __init__(self, msg=\"Invalid User\"):\n",
    "        self.msg = msg\n",
    "        super(InvalidUser, self).__init__(msg)\n",
    "class InvalidPassword(Base):\n",
    "    def __init__(self, msg=\"Invalid Password\"):\n",
    "        self.msg = msg\n",
    "        super(InvalidPassword, self).__init__(msg)"
   ]
  },
  {
   "cell_type": "code",
   "execution_count": 2,
   "metadata": {},
   "outputs": [
    {
     "name": "stdout",
     "output_type": "stream",
     "text": [
      "enter user name Nag\n",
      "enter password python\n"
     ]
    },
    {
     "ename": "InvalidUser",
     "evalue": "user can't be Nag",
     "output_type": "error",
     "traceback": [
      "\u001b[1;31m---------------------------------------------------------------------------\u001b[0m",
      "\u001b[1;31mInvalidUser\u001b[0m                               Traceback (most recent call last)",
      "\u001b[1;32m<ipython-input-2-1f50bbd3f36d>\u001b[0m in \u001b[0;36m<module>\u001b[1;34m()\u001b[0m\n\u001b[0;32m      2\u001b[0m \u001b[0mpwd\u001b[0m \u001b[1;33m=\u001b[0m \u001b[0mraw_input\u001b[0m\u001b[1;33m(\u001b[0m\u001b[1;34m\"enter password \"\u001b[0m\u001b[1;33m)\u001b[0m\u001b[1;33m\u001b[0m\u001b[0m\n\u001b[0;32m      3\u001b[0m \u001b[1;32mif\u001b[0m \u001b[0muser\u001b[0m \u001b[1;33m==\u001b[0m \u001b[1;34m'Nag'\u001b[0m\u001b[1;33m:\u001b[0m\u001b[1;33m\u001b[0m\u001b[0m\n\u001b[1;32m----> 4\u001b[1;33m     \u001b[1;32mraise\u001b[0m \u001b[0mInvalidUser\u001b[0m\u001b[1;33m(\u001b[0m\u001b[1;34m\"user can't be Nag\"\u001b[0m\u001b[1;33m)\u001b[0m\u001b[1;33m\u001b[0m\u001b[0m\n\u001b[0m",
      "\u001b[1;31mInvalidUser\u001b[0m: user can't be Nag"
     ]
    }
   ],
   "source": [
    "user = raw_input(\"enter user name \")\n",
    "pwd = raw_input(\"enter password \")\n",
    "if user == 'Nag':\n",
    "    raise InvalidUser(\"user can't be Nag\")"
   ]
  },
  {
   "cell_type": "code",
   "execution_count": null,
   "metadata": {},
   "outputs": [],
   "source": []
  }
 ],
 "metadata": {
  "kernelspec": {
   "display_name": "Python 2",
   "language": "python",
   "name": "python2"
  },
  "language_info": {
   "codemirror_mode": {
    "name": "ipython",
    "version": 2
   },
   "file_extension": ".py",
   "mimetype": "text/x-python",
   "name": "python",
   "nbconvert_exporter": "python",
   "pygments_lexer": "ipython2",
   "version": "2.7.15"
  }
 },
 "nbformat": 4,
 "nbformat_minor": 2
}
