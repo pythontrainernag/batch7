{
 "cells": [
  {
   "cell_type": "code",
   "execution_count": 1,
   "metadata": {},
   "outputs": [],
   "source": [
    "#Generally we want to send the from one location to another, The only way to transmit is string\n",
    "#But generic string may create some confusions\n",
    "# nag__kphb__mobile__\n",
    "#In order to avoid, we have two formats of standardized strings 1. JSON 2. XML\n"
   ]
  },
  {
   "cell_type": "code",
   "execution_count": 2,
   "metadata": {},
   "outputs": [],
   "source": [
    "b = {'classes': {'daily': {'python': {'timing':['07:00 AM', '09:00 AM', '09:00 PM'],\\\n",
    "                                      'faculty':'Nag'}, 'Machine Learning':\n",
    "                          {'timing': ['10:00 AM'], 'faculty': 'Mohan'}},\n",
    "                'weekends': {'python': {'timing': ['10:00 AM'], 'faculty':'Nag'}}}}"
   ]
  },
  {
   "cell_type": "code",
   "execution_count": 3,
   "metadata": {},
   "outputs": [
    {
     "name": "stdout",
     "output_type": "stream",
     "text": [
      "{'classes': {'weekends': {'python': {'timing': ['10:00 AM'], 'faculty': 'Nag'}}, 'daily': {'python': {'timing': ['07:00 AM', '09:00 AM', '09:00 PM'], 'faculty': 'Nag'}, 'Machine Learning': {'timing': ['10:00 AM'], 'faculty': 'Mohan'}}}}\n"
     ]
    }
   ],
   "source": [
    "print b"
   ]
  },
  {
   "cell_type": "code",
   "execution_count": 4,
   "metadata": {},
   "outputs": [],
   "source": [
    "import json"
   ]
  },
  {
   "cell_type": "code",
   "execution_count": 6,
   "metadata": {},
   "outputs": [],
   "source": [
    "c = json.dumps(b)"
   ]
  },
  {
   "cell_type": "code",
   "execution_count": 7,
   "metadata": {},
   "outputs": [
    {
     "name": "stdout",
     "output_type": "stream",
     "text": [
      "{\"classes\": {\"weekends\": {\"python\": {\"timing\": [\"10:00 AM\"], \"faculty\": \"Nag\"}}, \"daily\": {\"python\": {\"timing\": [\"07:00 AM\", \"09:00 AM\", \"09:00 PM\"], \"faculty\": \"Nag\"}, \"Machine Learning\": {\"timing\": [\"10:00 AM\"], \"faculty\": \"Mohan\"}}}}\n"
     ]
    }
   ],
   "source": [
    "print c"
   ]
  },
  {
   "cell_type": "code",
   "execution_count": 8,
   "metadata": {},
   "outputs": [
    {
     "name": "stdout",
     "output_type": "stream",
     "text": [
      "<type 'str'>\n"
     ]
    }
   ],
   "source": [
    "print type(c)"
   ]
  },
  {
   "cell_type": "code",
   "execution_count": 9,
   "metadata": {},
   "outputs": [
    {
     "name": "stdout",
     "output_type": "stream",
     "text": [
      "<type 'dict'>\n"
     ]
    }
   ],
   "source": [
    "print type(b)"
   ]
  },
  {
   "cell_type": "code",
   "execution_count": 10,
   "metadata": {},
   "outputs": [
    {
     "name": "stdout",
     "output_type": "stream",
     "text": [
      "{\"classes\": {\"weekends\": {\"python\": {\"timing\": [\"10:00 AM\"], \"faculty\": \"Nag\"}}, \"daily\": {\"python\": {\"timing\": [\"07:00 AM\", \"09:00 AM\", \"09:00 PM\"], \"faculty\": \"Nag\"}, \"Machine Learning\": {\"timing\": [\"10:00 AM\"], \"faculty\": \"Mohan\"}}}}\n"
     ]
    }
   ],
   "source": [
    "print c"
   ]
  },
  {
   "cell_type": "code",
   "execution_count": 11,
   "metadata": {},
   "outputs": [],
   "source": [
    "d = json.loads(c)"
   ]
  },
  {
   "cell_type": "code",
   "execution_count": 12,
   "metadata": {},
   "outputs": [
    {
     "name": "stdout",
     "output_type": "stream",
     "text": [
      "{u'classes': {u'weekends': {u'python': {u'timing': [u'10:00 AM'], u'faculty': u'Nag'}}, u'daily': {u'python': {u'timing': [u'07:00 AM', u'09:00 AM', u'09:00 PM'], u'faculty': u'Nag'}, u'Machine Learning': {u'timing': [u'10:00 AM'], u'faculty': u'Mohan'}}}}\n"
     ]
    }
   ],
   "source": [
    "print d"
   ]
  },
  {
   "cell_type": "code",
   "execution_count": 13,
   "metadata": {},
   "outputs": [
    {
     "name": "stdout",
     "output_type": "stream",
     "text": [
      "[u'classes']\n"
     ]
    }
   ],
   "source": [
    "print d.keys()"
   ]
  },
  {
   "cell_type": "code",
   "execution_count": 14,
   "metadata": {},
   "outputs": [
    {
     "name": "stdout",
     "output_type": "stream",
     "text": [
      "{u'weekends': {u'python': {u'timing': [u'10:00 AM'], u'faculty': u'Nag'}}, u'daily': {u'python': {u'timing': [u'07:00 AM', u'09:00 AM', u'09:00 PM'], u'faculty': u'Nag'}, u'Machine Learning': {u'timing': [u'10:00 AM'], u'faculty': u'Mohan'}}}\n"
     ]
    }
   ],
   "source": [
    "print d['classes']"
   ]
  },
  {
   "cell_type": "code",
   "execution_count": 15,
   "metadata": {},
   "outputs": [
    {
     "name": "stdout",
     "output_type": "stream",
     "text": [
      "[u'weekends', u'daily']\n"
     ]
    }
   ],
   "source": [
    "print d['classes'].keys()"
   ]
  },
  {
   "cell_type": "code",
   "execution_count": 16,
   "metadata": {},
   "outputs": [
    {
     "name": "stdout",
     "output_type": "stream",
     "text": [
      "[u'python', u'Machine Learning']\n"
     ]
    }
   ],
   "source": [
    "print d['classes']['daily'].keys()"
   ]
  },
  {
   "cell_type": "code",
   "execution_count": 17,
   "metadata": {},
   "outputs": [
    {
     "name": "stdout",
     "output_type": "stream",
     "text": [
      "[u'07:00 AM', u'09:00 AM', u'09:00 PM']\n"
     ]
    }
   ],
   "source": [
    "print d['classes']['daily']['python']['timing']"
   ]
  },
  {
   "cell_type": "code",
   "execution_count": 18,
   "metadata": {},
   "outputs": [
    {
     "name": "stdout",
     "output_type": "stream",
     "text": [
      "3\n"
     ]
    }
   ],
   "source": [
    "print len(d['classes']['daily']['python']['timing'])"
   ]
  },
  {
   "cell_type": "code",
   "execution_count": 19,
   "metadata": {},
   "outputs": [],
   "source": [
    "import requests"
   ]
  },
  {
   "cell_type": "code",
   "execution_count": 20,
   "metadata": {},
   "outputs": [],
   "source": [
    "res = requests.get('https://samples.openweathermap.org/data/2.5/weather?q=London,uk&appid=b6907d289e10d714a6e88b30761fae22')"
   ]
  },
  {
   "cell_type": "code",
   "execution_count": 21,
   "metadata": {},
   "outputs": [
    {
     "name": "stdout",
     "output_type": "stream",
     "text": [
      "<Response [200]>\n"
     ]
    }
   ],
   "source": [
    "print res"
   ]
  },
  {
   "cell_type": "code",
   "execution_count": 22,
   "metadata": {},
   "outputs": [
    {
     "name": "stdout",
     "output_type": "stream",
     "text": [
      "200\n"
     ]
    }
   ],
   "source": [
    "print res.status_code"
   ]
  },
  {
   "cell_type": "code",
   "execution_count": 23,
   "metadata": {},
   "outputs": [],
   "source": [
    "data = res.content"
   ]
  },
  {
   "cell_type": "code",
   "execution_count": 24,
   "metadata": {},
   "outputs": [
    {
     "name": "stdout",
     "output_type": "stream",
     "text": [
      "{\"coord\":{\"lon\":-0.13,\"lat\":51.51},\"weather\":[{\"id\":300,\"main\":\"Drizzle\",\"description\":\"light intensity drizzle\",\"icon\":\"09d\"}],\"base\":\"stations\",\"main\":{\"temp\":280.32,\"pressure\":1012,\"humidity\":81,\"temp_min\":279.15,\"temp_max\":281.15},\"visibility\":10000,\"wind\":{\"speed\":4.1,\"deg\":80},\"clouds\":{\"all\":90},\"dt\":1485789600,\"sys\":{\"type\":1,\"id\":5091,\"message\":0.0103,\"country\":\"GB\",\"sunrise\":1485762037,\"sunset\":1485794875},\"id\":2643743,\"name\":\"London\",\"cod\":200}\n"
     ]
    }
   ],
   "source": [
    "print data"
   ]
  },
  {
   "cell_type": "code",
   "execution_count": 25,
   "metadata": {},
   "outputs": [
    {
     "name": "stdout",
     "output_type": "stream",
     "text": [
      "<type 'str'>\n"
     ]
    }
   ],
   "source": [
    "print type(data)"
   ]
  },
  {
   "cell_type": "code",
   "execution_count": 26,
   "metadata": {},
   "outputs": [
    {
     "name": "stdout",
     "output_type": "stream",
     "text": [
      "['ConnectTimeout', 'ConnectionError', 'DependencyWarning', 'FileModeWarning', 'HTTPError', 'NullHandler', 'PreparedRequest', 'ReadTimeout', 'Request', 'RequestException', 'RequestsDependencyWarning', 'Response', 'Session', 'Timeout', 'TooManyRedirects', 'URLRequired', '__author__', '__author_email__', '__build__', '__builtins__', '__cake__', '__copyright__', '__description__', '__doc__', '__file__', '__license__', '__name__', '__package__', '__path__', '__title__', '__url__', '__version__', '_check_cryptography', '_internal_utils', 'adapters', 'api', 'auth', 'certs', 'chardet', 'check_compatibility', 'codes', 'compat', 'cookies', 'delete', 'exceptions', 'get', 'head', 'hooks', 'logging', 'models', 'options', 'packages', 'patch', 'post', 'put', 'request', 'session', 'sessions', 'status_codes', 'structures', 'urllib3', 'utils', 'warnings']\n"
     ]
    }
   ],
   "source": [
    "print dir(requests)"
   ]
  },
  {
   "cell_type": "code",
   "execution_count": 28,
   "metadata": {},
   "outputs": [],
   "source": [
    "req = requests.session()"
   ]
  },
  {
   "cell_type": "code",
   "execution_count": 29,
   "metadata": {},
   "outputs": [
    {
     "name": "stdout",
     "output_type": "stream",
     "text": [
      "<requests.sessions.Session object at 0x00000000065B3978>\n"
     ]
    }
   ],
   "source": [
    "print req"
   ]
  },
  {
   "cell_type": "code",
   "execution_count": 30,
   "metadata": {},
   "outputs": [
    {
     "name": "stdout",
     "output_type": "stream",
     "text": [
      "['__attrs__', '__class__', '__delattr__', '__dict__', '__doc__', '__enter__', '__exit__', '__format__', '__getattribute__', '__getstate__', '__hash__', '__init__', '__module__', '__new__', '__reduce__', '__reduce_ex__', '__repr__', '__setattr__', '__setstate__', '__sizeof__', '__str__', '__subclasshook__', '__weakref__', 'adapters', 'auth', 'cert', 'close', 'cookies', 'delete', 'get', 'get_adapter', 'get_redirect_target', 'head', 'headers', 'hooks', 'max_redirects', 'merge_environment_settings', 'mount', 'options', 'params', 'patch', 'post', 'prepare_request', 'proxies', 'put', 'rebuild_auth', 'rebuild_method', 'rebuild_proxies', 'request', 'resolve_redirects', 'send', 'should_strip_auth', 'stream', 'trust_env', 'verify']\n"
     ]
    }
   ],
   "source": [
    "print dir(req)"
   ]
  },
  {
   "cell_type": "code",
   "execution_count": 31,
   "metadata": {},
   "outputs": [],
   "source": [
    "req.headers = {'Accept': 'application/json'}"
   ]
  },
  {
   "cell_type": "code",
   "execution_count": 32,
   "metadata": {},
   "outputs": [
    {
     "data": {
      "text/plain": [
       "\"Constructs a :class:`Request <Request>`, prepares it and sends it.\\n        Returns :class:`Response <Response>` object.\\n\\n        :param method: method for the new :class:`Request` object.\\n        :param url: URL for the new :class:`Request` object.\\n        :param params: (optional) Dictionary or bytes to be sent in the query\\n            string for the :class:`Request`.\\n        :param data: (optional) Dictionary, list of tuples, bytes, or file-like\\n            object to send in the body of the :class:`Request`.\\n        :param json: (optional) json to send in the body of the\\n            :class:`Request`.\\n        :param headers: (optional) Dictionary of HTTP Headers to send with the\\n            :class:`Request`.\\n        :param cookies: (optional) Dict or CookieJar object to send with the\\n            :class:`Request`.\\n        :param files: (optional) Dictionary of ``'filename': file-like-objects``\\n            for multipart encoding upload.\\n        :param auth: (optional) Auth tuple or callable to enable\\n            Basic/Digest/Custom HTTP Auth.\\n        :param timeout: (optional) How long to wait for the server to send\\n            data before giving up, as a float, or a :ref:`(connect timeout,\\n            read timeout) <timeouts>` tuple.\\n        :type timeout: float or tuple\\n        :param allow_redirects: (optional) Set to True by default.\\n        :type allow_redirects: bool\\n        :param proxies: (optional) Dictionary mapping protocol or protocol and\\n            hostname to the URL of the proxy.\\n        :param stream: (optional) whether to immediately download the response\\n            content. Defaults to ``False``.\\n        :param verify: (optional) Either a boolean, in which case it controls whether we verify\\n            the server's TLS certificate, or a string, in which case it must be a path\\n            to a CA bundle to use. Defaults to ``True``.\\n        :param cert: (optional) if String, path to ssl client cert file (.pem).\\n            If Tuple, ('cert', 'key') pair.\\n        :rtype: requests.Response\\n        \""
      ]
     },
     "execution_count": 32,
     "metadata": {},
     "output_type": "execute_result"
    }
   ],
   "source": [
    "req.request.__doc__"
   ]
  },
  {
   "cell_type": "code",
   "execution_count": 35,
   "metadata": {},
   "outputs": [],
   "source": [
    "res = req.request('GET', url='https://samples.openweathermap.org/data/2.5/weather?q=London,uk&appid=b6907d289e10d714a6e88b30761fae22')"
   ]
  },
  {
   "cell_type": "code",
   "execution_count": 36,
   "metadata": {},
   "outputs": [
    {
     "name": "stdout",
     "output_type": "stream",
     "text": [
      "<Response [200]>\n"
     ]
    }
   ],
   "source": [
    "print res"
   ]
  },
  {
   "cell_type": "code",
   "execution_count": 37,
   "metadata": {},
   "outputs": [
    {
     "name": "stdout",
     "output_type": "stream",
     "text": [
      "{\"coord\":{\"lon\":-0.13,\"lat\":51.51},\"weather\":[{\"id\":300,\"main\":\"Drizzle\",\"description\":\"light intensity drizzle\",\"icon\":\"09d\"}],\"base\":\"stations\",\"main\":{\"temp\":280.32,\"pressure\":1012,\"humidity\":81,\"temp_min\":279.15,\"temp_max\":281.15},\"visibility\":10000,\"wind\":{\"speed\":4.1,\"deg\":80},\"clouds\":{\"all\":90},\"dt\":1485789600,\"sys\":{\"type\":1,\"id\":5091,\"message\":0.0103,\"country\":\"GB\",\"sunrise\":1485762037,\"sunset\":1485794875},\"id\":2643743,\"name\":\"London\",\"cod\":200}\n"
     ]
    }
   ],
   "source": [
    "print res.content"
   ]
  },
  {
   "cell_type": "code",
   "execution_count": 38,
   "metadata": {},
   "outputs": [
    {
     "name": "stdout",
     "output_type": "stream",
     "text": [
      "{u'clouds': {u'all': 90}, u'name': u'London', u'visibility': 10000, u'sys': {u'country': u'GB', u'sunset': 1485794875, u'message': 0.0103, u'type': 1, u'id': 5091, u'sunrise': 1485762037}, u'weather': [{u'main': u'Drizzle', u'id': 300, u'icon': u'09d', u'description': u'light intensity drizzle'}], u'coord': {u'lat': 51.51, u'lon': -0.13}, u'base': u'stations', u'dt': 1485789600, u'main': {u'pressure': 1012, u'temp_min': 279.15, u'temp_max': 281.15, u'temp': 280.32, u'humidity': 81}, u'id': 2643743, u'wind': {u'speed': 4.1, u'deg': 80}, u'cod': 200}\n"
     ]
    }
   ],
   "source": [
    "print res.json()"
   ]
  },
  {
   "cell_type": "code",
   "execution_count": 39,
   "metadata": {},
   "outputs": [
    {
     "name": "stdout",
     "output_type": "stream",
     "text": [
      "{u'all': 90}\n"
     ]
    }
   ],
   "source": [
    "print res.json()['clouds']"
   ]
  },
  {
   "cell_type": "code",
   "execution_count": null,
   "metadata": {},
   "outputs": [],
   "source": []
  }
 ],
 "metadata": {
  "kernelspec": {
   "display_name": "Python 2",
   "language": "python",
   "name": "python2"
  },
  "language_info": {
   "codemirror_mode": {
    "name": "ipython",
    "version": 2
   },
   "file_extension": ".py",
   "mimetype": "text/x-python",
   "name": "python",
   "nbconvert_exporter": "python",
   "pygments_lexer": "ipython2",
   "version": "2.7.15"
  }
 },
 "nbformat": 4,
 "nbformat_minor": 2
}
