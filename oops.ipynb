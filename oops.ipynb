{
 "cells": [
  {
   "cell_type": "code",
   "execution_count": 1,
   "metadata": {},
   "outputs": [],
   "source": [
    "#class className():\n",
    "#    attributes\n",
    "#    methods"
   ]
  },
  {
   "cell_type": "code",
   "execution_count": 2,
   "metadata": {},
   "outputs": [
    {
     "name": "stdout",
     "output_type": "stream",
     "text": [
      "<__main__.Pen object at 0x0000000004BC63C8>\n",
      "<__main__.Pen object at 0x0000000004B50F60>\n"
     ]
    }
   ],
   "source": [
    "class Pen(object):\n",
    "    def __init__(self):\n",
    "        self.ink_level = 100\n",
    "    def write(self, hours):\n",
    "        self.ink_level = self.ink_level - (hours*10)\n",
    "        if self.ink_level <= 10:\n",
    "            return \"Hey please maintain back up\"\n",
    "        return \"Good\"\n",
    "    def check_level(self):\n",
    "        return self.ink_level\n",
    "p1 = Pen()\n",
    "p2 = Pen()\n",
    "print p1\n",
    "print p2"
   ]
  },
  {
   "cell_type": "code",
   "execution_count": 3,
   "metadata": {},
   "outputs": [
    {
     "name": "stdout",
     "output_type": "stream",
     "text": [
      "Good\n"
     ]
    }
   ],
   "source": [
    "print p1.write(2)"
   ]
  },
  {
   "cell_type": "code",
   "execution_count": 4,
   "metadata": {},
   "outputs": [
    {
     "name": "stdout",
     "output_type": "stream",
     "text": [
      "Hey please maintain back up\n"
     ]
    }
   ],
   "source": [
    "print p2.write(9.3)"
   ]
  },
  {
   "cell_type": "code",
   "execution_count": 5,
   "metadata": {},
   "outputs": [
    {
     "name": "stdout",
     "output_type": "stream",
     "text": [
      "80\n"
     ]
    }
   ],
   "source": [
    "print p1.check_level()"
   ]
  },
  {
   "cell_type": "code",
   "execution_count": 6,
   "metadata": {},
   "outputs": [
    {
     "name": "stdout",
     "output_type": "stream",
     "text": [
      "7.0\n"
     ]
    }
   ],
   "source": [
    "print p2.check_level()"
   ]
  },
  {
   "cell_type": "markdown",
   "metadata": {},
   "source": [
    "# instance variables and class variables"
   ]
  },
  {
   "cell_type": "code",
   "execution_count": 1,
   "metadata": {},
   "outputs": [],
   "source": [
    "#instance variables are nothing but the attributes that are specific instances like balance in the Account\n",
    "#class variables are specific to class. If any change in the class then it will effect all instances"
   ]
  },
  {
   "cell_type": "code",
   "execution_count": 2,
   "metadata": {},
   "outputs": [],
   "source": [
    "class Myclass():\n",
    "    a = 10\n",
    "    b = 20\n",
    "    def __init__(self):\n",
    "        self.c = 100\n",
    "        self.d = 200"
   ]
  },
  {
   "cell_type": "code",
   "execution_count": 3,
   "metadata": {},
   "outputs": [
    {
     "name": "stdout",
     "output_type": "stream",
     "text": [
      "['__doc__', '__init__', '__module__', 'a', 'b', 'c', 'd']\n"
     ]
    }
   ],
   "source": [
    "o1 = Myclass()\n",
    "o2 = Myclass()\n",
    "print dir(o1)"
   ]
  },
  {
   "cell_type": "code",
   "execution_count": 4,
   "metadata": {},
   "outputs": [
    {
     "name": "stdout",
     "output_type": "stream",
     "text": [
      "['__doc__', '__init__', '__module__', 'a', 'b', 'c', 'd']\n"
     ]
    }
   ],
   "source": [
    "print dir(o2)"
   ]
  },
  {
   "cell_type": "code",
   "execution_count": 6,
   "metadata": {},
   "outputs": [],
   "source": [
    "class Pen():\n",
    "    def __init__(self, c):\n",
    "        self.ink_level = 100\n",
    "        self.color = c\n",
    "p1 = Pen(\"blue\")\n",
    "p2 = Pen(\"red\")"
   ]
  },
  {
   "cell_type": "code",
   "execution_count": 7,
   "metadata": {},
   "outputs": [
    {
     "name": "stdout",
     "output_type": "stream",
     "text": [
      "['__doc__', '__init__', '__module__', 'color', 'ink_level']\n"
     ]
    }
   ],
   "source": [
    "print dir(p1)"
   ]
  },
  {
   "cell_type": "code",
   "execution_count": 9,
   "metadata": {},
   "outputs": [
    {
     "name": "stdout",
     "output_type": "stream",
     "text": [
      "['__doc__', '__init__', '__module__', 'color', 'ink_level']\n"
     ]
    }
   ],
   "source": [
    "print dir(p2)"
   ]
  },
  {
   "cell_type": "code",
   "execution_count": 10,
   "metadata": {},
   "outputs": [
    {
     "name": "stdout",
     "output_type": "stream",
     "text": [
      "blue\n",
      "red\n"
     ]
    }
   ],
   "source": [
    "print p1.color\n",
    "print p2.color"
   ]
  },
  {
   "cell_type": "code",
   "execution_count": 11,
   "metadata": {},
   "outputs": [
    {
     "name": "stdout",
     "output_type": "stream",
     "text": [
      "<__main__.Pen instance at 0x0000000004D2CA08>\n",
      "<__main__.Pen instance at 0x0000000004D2C8C8>\n",
      "p1 is  <__main__.Pen instance at 0x0000000004D2CA08>\n",
      "p2 is  <__main__.Pen instance at 0x0000000004D2C8C8>\n"
     ]
    }
   ],
   "source": [
    "class Pen():\n",
    "    def __init__(self, c):\n",
    "        print self\n",
    "        self.ink_level = 100\n",
    "        self.color = c\n",
    "    def getColor(self):\n",
    "        print self\n",
    "        return self.color\n",
    "p1 = Pen(\"blue\")\n",
    "p2 = Pen(\"red\")\n",
    "print \"p1 is \", p1\n",
    "print \"p2 is \", p2"
   ]
  },
  {
   "cell_type": "code",
   "execution_count": 13,
   "metadata": {},
   "outputs": [
    {
     "name": "stdout",
     "output_type": "stream",
     "text": [
      "<__main__.Pen instance at 0x0000000004D2CA08>\n",
      "blue\n"
     ]
    }
   ],
   "source": [
    "print p1.getColor()"
   ]
  },
  {
   "cell_type": "code",
   "execution_count": 14,
   "metadata": {},
   "outputs": [
    {
     "name": "stdout",
     "output_type": "stream",
     "text": [
      "<__main__.Pen instance at 0x0000000004D2C8C8>\n",
      "red\n"
     ]
    }
   ],
   "source": [
    "print p2.getColor()"
   ]
  },
  {
   "cell_type": "code",
   "execution_count": 15,
   "metadata": {},
   "outputs": [
    {
     "name": "stdout",
     "output_type": "stream",
     "text": [
      "<__main__.Pen instance at 0x0000000004BFD148>\n",
      "<__main__.Pen instance at 0x0000000004BFD2C8>\n",
      "p1 is  <__main__.Pen instance at 0x0000000004BFD148>\n",
      "p2 is  <__main__.Pen instance at 0x0000000004BFD2C8>\n"
     ]
    }
   ],
   "source": [
    "class Pen():\n",
    "    def __init__(self, c):\n",
    "        print self\n",
    "        self.ink_level = 100\n",
    "        self.color = c\n",
    "    def getColor(xyz):\n",
    "        print xyz\n",
    "        return xyz.color\n",
    "p1 = Pen(\"blue\")\n",
    "p2 = Pen(\"red\")\n",
    "print \"p1 is \", p1\n",
    "print \"p2 is \", p2"
   ]
  },
  {
   "cell_type": "code",
   "execution_count": 16,
   "metadata": {},
   "outputs": [
    {
     "name": "stdout",
     "output_type": "stream",
     "text": [
      "<__main__.Pen instance at 0x0000000004BFD148>\n",
      "blue\n"
     ]
    }
   ],
   "source": [
    "print p1.getColor()"
   ]
  },
  {
   "cell_type": "code",
   "execution_count": 17,
   "metadata": {},
   "outputs": [],
   "source": [
    "class Myclass():\n",
    "    a = 10\n",
    "    b = 20\n",
    "    def __init__(self, c, d):\n",
    "        self.c = d\n",
    "        self.d = c\n",
    "        e =100\n",
    "o1 = Myclass(35, 45)\n",
    "o2 = Myclass(40, 50)\n"
   ]
  },
  {
   "cell_type": "code",
   "execution_count": 19,
   "metadata": {},
   "outputs": [
    {
     "name": "stdout",
     "output_type": "stream",
     "text": [
      "45\n",
      "50\n"
     ]
    }
   ],
   "source": [
    "print o1.c\n",
    "print o2.c"
   ]
  },
  {
   "cell_type": "code",
   "execution_count": 20,
   "metadata": {},
   "outputs": [
    {
     "name": "stdout",
     "output_type": "stream",
     "text": [
      "45 35"
     ]
    },
    {
     "ename": "AttributeError",
     "evalue": "Myclass instance has no attribute 'e'",
     "output_type": "error",
     "traceback": [
      "\u001b[1;31m---------------------------------------------------------------------------\u001b[0m",
      "\u001b[1;31mAttributeError\u001b[0m                            Traceback (most recent call last)",
      "\u001b[1;32m<ipython-input-20-f2d4ba99d2ec>\u001b[0m in \u001b[0;36m<module>\u001b[1;34m()\u001b[0m\n\u001b[0;32m     10\u001b[0m \u001b[0mo1\u001b[0m \u001b[1;33m=\u001b[0m \u001b[0mMyclass\u001b[0m\u001b[1;33m(\u001b[0m\u001b[1;36m35\u001b[0m\u001b[1;33m,\u001b[0m \u001b[1;36m45\u001b[0m\u001b[1;33m)\u001b[0m\u001b[1;33m\u001b[0m\u001b[0m\n\u001b[0;32m     11\u001b[0m \u001b[0mo2\u001b[0m \u001b[1;33m=\u001b[0m \u001b[0mMyclass\u001b[0m\u001b[1;33m(\u001b[0m\u001b[1;36m40\u001b[0m\u001b[1;33m,\u001b[0m \u001b[1;36m50\u001b[0m\u001b[1;33m)\u001b[0m\u001b[1;33m\u001b[0m\u001b[0m\n\u001b[1;32m---> 12\u001b[1;33m \u001b[1;32mprint\u001b[0m \u001b[0mo1\u001b[0m\u001b[1;33m.\u001b[0m\u001b[0mreadValues\u001b[0m\u001b[1;33m(\u001b[0m\u001b[1;33m)\u001b[0m\u001b[1;33m\u001b[0m\u001b[0m\n\u001b[0m",
      "\u001b[1;32m<ipython-input-20-f2d4ba99d2ec>\u001b[0m in \u001b[0;36mreadValues\u001b[1;34m(self)\u001b[0m\n\u001b[0;32m      7\u001b[0m         \u001b[0me\u001b[0m \u001b[1;33m=\u001b[0m\u001b[1;36m100\u001b[0m\u001b[1;33m\u001b[0m\u001b[0m\n\u001b[0;32m      8\u001b[0m     \u001b[1;32mdef\u001b[0m \u001b[0mreadValues\u001b[0m\u001b[1;33m(\u001b[0m\u001b[0mself\u001b[0m\u001b[1;33m)\u001b[0m\u001b[1;33m:\u001b[0m\u001b[1;33m\u001b[0m\u001b[0m\n\u001b[1;32m----> 9\u001b[1;33m         \u001b[1;32mprint\u001b[0m \u001b[0mself\u001b[0m\u001b[1;33m.\u001b[0m\u001b[0mc\u001b[0m\u001b[1;33m,\u001b[0m \u001b[0mself\u001b[0m\u001b[1;33m.\u001b[0m\u001b[0md\u001b[0m\u001b[1;33m,\u001b[0m \u001b[0mself\u001b[0m\u001b[1;33m.\u001b[0m\u001b[0me\u001b[0m\u001b[1;33m\u001b[0m\u001b[0m\n\u001b[0m\u001b[0;32m     10\u001b[0m \u001b[0mo1\u001b[0m \u001b[1;33m=\u001b[0m \u001b[0mMyclass\u001b[0m\u001b[1;33m(\u001b[0m\u001b[1;36m35\u001b[0m\u001b[1;33m,\u001b[0m \u001b[1;36m45\u001b[0m\u001b[1;33m)\u001b[0m\u001b[1;33m\u001b[0m\u001b[0m\n\u001b[0;32m     11\u001b[0m \u001b[0mo2\u001b[0m \u001b[1;33m=\u001b[0m \u001b[0mMyclass\u001b[0m\u001b[1;33m(\u001b[0m\u001b[1;36m40\u001b[0m\u001b[1;33m,\u001b[0m \u001b[1;36m50\u001b[0m\u001b[1;33m)\u001b[0m\u001b[1;33m\u001b[0m\u001b[0m\n",
      "\u001b[1;31mAttributeError\u001b[0m: Myclass instance has no attribute 'e'"
     ]
    }
   ],
   "source": [
    "class Myclass():\n",
    "    a = 10\n",
    "    b = 20\n",
    "    def __init__(self, c, d):\n",
    "        self.c = d\n",
    "        self.d = c\n",
    "        e =100\n",
    "    def readValues(self):\n",
    "        print self.c, self.d, self.e\n",
    "o1 = Myclass(35, 45)\n",
    "o2 = Myclass(40, 50)\n",
    "print o1.readValues()"
   ]
  },
  {
   "cell_type": "code",
   "execution_count": 22,
   "metadata": {},
   "outputs": [
    {
     "name": "stdout",
     "output_type": "stream",
     "text": [
      "45 35\n",
      "50 40\n"
     ]
    }
   ],
   "source": [
    "class Myclass():\n",
    "    a = 10\n",
    "    b = 20\n",
    "    def __init__(self, c, d):\n",
    "        self.c = d\n",
    "        self.d = c\n",
    "        e =100\n",
    "    def readValues(self):\n",
    "        print self.c, self.d\n",
    "o1 = Myclass(35, 45)\n",
    "o2 = Myclass(40, 50)\n",
    "o1.readValues()\n",
    "o2.readValues()"
   ]
  },
  {
   "cell_type": "code",
   "execution_count": 23,
   "metadata": {},
   "outputs": [
    {
     "name": "stdout",
     "output_type": "stream",
     "text": [
      "45 35 100\n",
      "50 40 100\n"
     ]
    }
   ],
   "source": [
    "class Myclass():\n",
    "    a = 10\n",
    "    b = 20\n",
    "    def __init__(self, c, d):\n",
    "        self.c = d\n",
    "        self.d = c\n",
    "        self.e =100\n",
    "    def readValues(self):\n",
    "        print self.c, self.d, self.e\n",
    "o1 = Myclass(35, 45)\n",
    "o2 = Myclass(40, 50)\n",
    "o1.readValues()\n",
    "o2.readValues()"
   ]
  },
  {
   "cell_type": "code",
   "execution_count": null,
   "metadata": {},
   "outputs": [],
   "source": []
  }
 ],
 "metadata": {
  "kernelspec": {
   "display_name": "Python 2",
   "language": "python",
   "name": "python2"
  },
  "language_info": {
   "codemirror_mode": {
    "name": "ipython",
    "version": 2
   },
   "file_extension": ".py",
   "mimetype": "text/x-python",
   "name": "python",
   "nbconvert_exporter": "python",
   "pygments_lexer": "ipython2",
   "version": "2.7.15"
  }
 },
 "nbformat": 4,
 "nbformat_minor": 2
}
