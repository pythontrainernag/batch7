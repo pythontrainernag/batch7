{
 "cells": [
  {
   "cell_type": "code",
   "execution_count": 2,
   "metadata": {},
   "outputs": [],
   "source": [
    "a = \"I am Nag. +91-81485822221213 My mobile is +91-8148582222. I am from KPHB\""
   ]
  },
  {
   "cell_type": "code",
   "execution_count": 3,
   "metadata": {},
   "outputs": [],
   "source": [
    "import re"
   ]
  },
  {
   "cell_type": "code",
   "execution_count": 4,
   "metadata": {},
   "outputs": [],
   "source": [
    "v = re.search(r'\\+91\\-\\d\\d\\d\\d\\d\\d\\d\\d\\d\\d\\.', a)"
   ]
  },
  {
   "cell_type": "code",
   "execution_count": 5,
   "metadata": {},
   "outputs": [
    {
     "name": "stdout",
     "output_type": "stream",
     "text": [
      "<_sre.SRE_Match object at 0x00000000049A7920>\n"
     ]
    }
   ],
   "source": [
    "print v"
   ]
  },
  {
   "cell_type": "code",
   "execution_count": 6,
   "metadata": {},
   "outputs": [
    {
     "name": "stdout",
     "output_type": "stream",
     "text": [
      "+91-8148582222.\n"
     ]
    }
   ],
   "source": [
    "print v.group()"
   ]
  },
  {
   "cell_type": "code",
   "execution_count": 7,
   "metadata": {},
   "outputs": [
    {
     "name": "stdout",
     "output_type": "stream",
     "text": [
      "+91-8148582222.\n"
     ]
    }
   ],
   "source": [
    "print re.search(r'\\+91\\-\\d{10}\\.', a).group()"
   ]
  },
  {
   "cell_type": "code",
   "execution_count": 8,
   "metadata": {},
   "outputs": [
    {
     "name": "stdout",
     "output_type": "stream",
     "text": [
      "+91-814858222212.\n"
     ]
    }
   ],
   "source": [
    "a = \"I am Nag. +91-81485822221213 My mobile is +91-814858222212. I am from KPHB\"\n",
    "print re.search(r'\\+91\\-\\d{10,12}\\.', a).group()"
   ]
  },
  {
   "cell_type": "code",
   "execution_count": 10,
   "metadata": {},
   "outputs": [],
   "source": [
    "a = \"I am Nag. +91-81485822221213 My mobile is +91-8148582222. I am from KPHB\"\n",
    "res = re.search(r'(\\+91)\\-(\\d{10,12})\\.', a)"
   ]
  },
  {
   "cell_type": "code",
   "execution_count": 11,
   "metadata": {},
   "outputs": [
    {
     "name": "stdout",
     "output_type": "stream",
     "text": [
      "+91-8148582222.\n"
     ]
    }
   ],
   "source": [
    "print res.group()"
   ]
  },
  {
   "cell_type": "code",
   "execution_count": 12,
   "metadata": {},
   "outputs": [
    {
     "name": "stdout",
     "output_type": "stream",
     "text": [
      "+91\n"
     ]
    }
   ],
   "source": [
    "print res.group(1)"
   ]
  },
  {
   "cell_type": "code",
   "execution_count": 13,
   "metadata": {},
   "outputs": [
    {
     "name": "stdout",
     "output_type": "stream",
     "text": [
      "8148582222\n"
     ]
    }
   ],
   "source": [
    "print res.group(2)"
   ]
  },
  {
   "cell_type": "code",
   "execution_count": 17,
   "metadata": {},
   "outputs": [],
   "source": [
    "#character classes\n",
    "a = \"I am Nag. +91-81485822221213 My mobile is +91-8148582222. I am from KPHB\"\n",
    "res = re.search(r'(\\+91)\\-([6789]\\d{9})\\.', a)"
   ]
  },
  {
   "cell_type": "code",
   "execution_count": 18,
   "metadata": {},
   "outputs": [
    {
     "name": "stdout",
     "output_type": "stream",
     "text": [
      "8148582222\n"
     ]
    }
   ],
   "source": [
    "print res.group(2)"
   ]
  },
  {
   "cell_type": "code",
   "execution_count": 19,
   "metadata": {},
   "outputs": [],
   "source": [
    "#character classes\n",
    "a = \"I am Nag. +91-81485822221213 My mobile is +91-0148582222. I am from KPHB\"\n",
    "res = re.search(r'(\\+91)\\-([6789]\\d{9})\\.', a)"
   ]
  },
  {
   "cell_type": "code",
   "execution_count": 20,
   "metadata": {},
   "outputs": [
    {
     "name": "stdout",
     "output_type": "stream",
     "text": [
      "None\n"
     ]
    }
   ],
   "source": [
    "print res"
   ]
  },
  {
   "cell_type": "code",
   "execution_count": 21,
   "metadata": {},
   "outputs": [],
   "source": [
    "#character classes\n",
    "a = \"I am Nag. +91-81485822221213 My mobile is +91-8148582222. I am from KPHB\"\n",
    "res = re.search(r'(\\+91)\\-([6-9]\\d{9})\\.', a)"
   ]
  },
  {
   "cell_type": "code",
   "execution_count": 22,
   "metadata": {},
   "outputs": [
    {
     "name": "stdout",
     "output_type": "stream",
     "text": [
      "8148582222\n"
     ]
    }
   ],
   "source": [
    "print res.group(2)"
   ]
  },
  {
   "cell_type": "code",
   "execution_count": 23,
   "metadata": {},
   "outputs": [],
   "source": [
    "a = \"I am Nag. +91-81485822221213 My mobile is +91-8148582222  from. frOm I am fr0m KPHB\"\n",
    "res = re.search(r'fr[0O]m', a)"
   ]
  },
  {
   "cell_type": "code",
   "execution_count": 24,
   "metadata": {},
   "outputs": [
    {
     "name": "stdout",
     "output_type": "stream",
     "text": [
      "frOm\n"
     ]
    }
   ],
   "source": [
    "print res.group()"
   ]
  },
  {
   "cell_type": "code",
   "execution_count": 25,
   "metadata": {},
   "outputs": [],
   "source": [
    "a = \"I am Nag. +91-81485822221213 My fr@m mobile is +91-8148582222  from. frOm I am fr0m KPHB\"\n",
    "res = re.findall(r'fr[0O]m', a)"
   ]
  },
  {
   "cell_type": "code",
   "execution_count": 26,
   "metadata": {},
   "outputs": [
    {
     "name": "stdout",
     "output_type": "stream",
     "text": [
      "['frOm', 'fr0m']\n"
     ]
    }
   ],
   "source": [
    "print res"
   ]
  },
  {
   "cell_type": "code",
   "execution_count": 27,
   "metadata": {},
   "outputs": [],
   "source": [
    "a = \"I am Nag. +91-81485822221213 My fr@m mobile is +91-8148582222  from. frOm I am fr0m KPHB\"\n",
    "res = re.findall(r'fr[^oO]m', a)"
   ]
  },
  {
   "cell_type": "code",
   "execution_count": 28,
   "metadata": {},
   "outputs": [
    {
     "name": "stdout",
     "output_type": "stream",
     "text": [
      "['fr@m', 'fr0m']\n"
     ]
    }
   ],
   "source": [
    "print res"
   ]
  },
  {
   "cell_type": "code",
   "execution_count": 33,
   "metadata": {},
   "outputs": [
    {
     "name": "stdout",
     "output_type": "stream",
     "text": [
      "['@', '$', '_', '*']\n"
     ]
    }
   ],
   "source": [
    "st = \"11@12$14_1.2*abC\"\n",
    "print re.findall(r'([^0-9A-Za-z\\.])', st)"
   ]
  },
  {
   "cell_type": "code",
   "execution_count": 34,
   "metadata": {},
   "outputs": [],
   "source": [
    "#+ ? *\n",
    "# + one or more match\n",
    "# ? zero or one match\n",
    "# * zero or more"
   ]
  },
  {
   "cell_type": "code",
   "execution_count": 37,
   "metadata": {},
   "outputs": [
    {
     "name": "stdout",
     "output_type": "stream",
     "text": [
      "['00010:0001212']\n"
     ]
    }
   ],
   "source": [
    "a = \"This is a python class. This starts at 00010:0001212 AM. This course will take 40 hours\"\n",
    "print re.findall(r' (\\d+:\\d+)\\s[APap][Mm]', a)"
   ]
  },
  {
   "cell_type": "code",
   "execution_count": 38,
   "metadata": {},
   "outputs": [
    {
     "name": "stdout",
     "output_type": "stream",
     "text": [
      "['This is a python class. This starts at 00010:0001212 AM. This course will take 40 hours', '']\n"
     ]
    }
   ],
   "source": [
    "print re.findall(r'.*', a)"
   ]
  },
  {
   "cell_type": "code",
   "execution_count": 57,
   "metadata": {},
   "outputs": [
    {
     "name": "stdout",
     "output_type": "stream",
     "text": [
      "['python', 'Django']\n"
     ]
    }
   ],
   "source": [
    "a = \"This is a python class. This starts at 10:00 AM. Classes are being taken by Trainer Nag. Duration of course is 40 hours\\\n",
    "This is a Django class. This starts at 10:00 AM. Classes are being taken by Trainer Nag. Duration of course is 40 hours\"\n",
    "print re.findall(r'\\s([A-Za-z]+)\\sclass\\..*\\s(\\d{2}:\\d{2} [AP]M)\\..*Trainer\\s([A-Za-z]+)\\..*\\s(\\d+)\\shours',\\\n",
    "                 a)"
   ]
  },
  {
   "cell_type": "code",
   "execution_count": null,
   "metadata": {},
   "outputs": [],
   "source": []
  }
 ],
 "metadata": {
  "kernelspec": {
   "display_name": "Python 2",
   "language": "python",
   "name": "python2"
  },
  "language_info": {
   "codemirror_mode": {
    "name": "ipython",
    "version": 2
   },
   "file_extension": ".py",
   "mimetype": "text/x-python",
   "name": "python",
   "nbconvert_exporter": "python",
   "pygments_lexer": "ipython2",
   "version": "2.7.15"
  }
 },
 "nbformat": 4,
 "nbformat_minor": 2
}
