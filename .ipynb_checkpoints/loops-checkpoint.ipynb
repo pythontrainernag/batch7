{
 "cells": [
  {
   "cell_type": "markdown",
   "metadata": {},
   "source": [
    "# control flow"
   ]
  },
  {
   "cell_type": "markdown",
   "metadata": {},
   "source": [
    "#conditional statements\n",
    "#iterative statements\n",
    "#transfer statements"
   ]
  },
  {
   "cell_type": "markdown",
   "metadata": {},
   "source": [
    "#conditional statments ---> if, elif and else"
   ]
  },
  {
   "cell_type": "code",
   "execution_count": 1,
   "metadata": {},
   "outputs": [],
   "source": [
    "#1. execute block of statements only if condition satisfies\n",
    "#syntax\n",
    "\n",
    "#if <condition>:\n",
    "#    st1\n",
    "#    st2\n",
    "#    |\n",
    "#    |\n",
    "#    stn"
   ]
  },
  {
   "cell_type": "code",
   "execution_count": 3,
   "metadata": {},
   "outputs": [],
   "source": [
    "# anything that outcome is true or false\n",
    "#Using of the relation operator between two similiar data types"
   ]
  },
  {
   "cell_type": "code",
   "execution_count": 4,
   "metadata": {},
   "outputs": [
    {
     "name": "stdout",
     "output_type": "stream",
     "text": [
      "before starting if\n",
      "inside if\n",
      "a is lesser\n",
      "ending if\n",
      "outside if\n"
     ]
    }
   ],
   "source": [
    "a = 10\n",
    "b = 15\n",
    "print \"before starting if\"\n",
    "if a<b:\n",
    "    print \"inside if\"\n",
    "    print \"a is lesser\"\n",
    "    print \"ending if\"\n",
    "print \"outside if\""
   ]
  },
  {
   "cell_type": "code",
   "execution_count": 5,
   "metadata": {},
   "outputs": [
    {
     "name": "stdout",
     "output_type": "stream",
     "text": [
      "before starting if\n",
      "outside if\n"
     ]
    }
   ],
   "source": [
    "a = 10\n",
    "b = 15\n",
    "print \"before starting if\"\n",
    "if a>b:\n",
    "    print \"inside if\"\n",
    "    print \"a is lesser\"\n",
    "    print \"ending if\"\n",
    "print \"outside if\""
   ]
  },
  {
   "cell_type": "code",
   "execution_count": 6,
   "metadata": {},
   "outputs": [
    {
     "ename": "IndentationError",
     "evalue": "unexpected indent (<ipython-input-6-f4c0b27d48fa>, line 6)",
     "output_type": "error",
     "traceback": [
      "\u001b[1;36m  File \u001b[1;32m\"<ipython-input-6-f4c0b27d48fa>\"\u001b[1;36m, line \u001b[1;32m6\u001b[0m\n\u001b[1;33m    print \"a is lesser\"\u001b[0m\n\u001b[1;37m    ^\u001b[0m\n\u001b[1;31mIndentationError\u001b[0m\u001b[1;31m:\u001b[0m unexpected indent\n"
     ]
    }
   ],
   "source": [
    "a = 10\n",
    "b = 15\n",
    "print \"before starting if\"\n",
    "if a>b:\n",
    "    print \"inside if\"\n",
    "      print \"a is lesser\"\n",
    "    print \"ending if\"\n",
    "print \"outside if\""
   ]
  },
  {
   "cell_type": "code",
   "execution_count": 7,
   "metadata": {},
   "outputs": [
    {
     "name": "stdout",
     "output_type": "stream",
     "text": [
      "before starting if\n",
      "outside if\n"
     ]
    }
   ],
   "source": [
    "a = 10\n",
    "b = 15\n",
    "print \"before starting if\"\n",
    "if a>b:\n",
    "  print \"inside if\"\n",
    "  print \"a is lesser\"\n",
    "  print \"ending if\"\n",
    "print \"outside if\""
   ]
  },
  {
   "cell_type": "code",
   "execution_count": 8,
   "metadata": {},
   "outputs": [
    {
     "ename": "IndentationError",
     "evalue": "unexpected indent (<ipython-input-8-0f6fb417565a>, line 7)",
     "output_type": "error",
     "traceback": [
      "\u001b[1;36m  File \u001b[1;32m\"<ipython-input-8-0f6fb417565a>\"\u001b[1;36m, line \u001b[1;32m7\u001b[0m\n\u001b[1;33m    print \"ending if\"\u001b[0m\n\u001b[1;37m    ^\u001b[0m\n\u001b[1;31mIndentationError\u001b[0m\u001b[1;31m:\u001b[0m unexpected indent\n"
     ]
    }
   ],
   "source": [
    "a = 10\n",
    "b = 15\n",
    "print \"before starting if\"\n",
    "if a>b:\n",
    "    print \"inside if\"\n",
    "print \"a is lesser\"\n",
    "    print \"ending if\"\n",
    "print \"outside if\""
   ]
  },
  {
   "cell_type": "code",
   "execution_count": 9,
   "metadata": {},
   "outputs": [
    {
     "name": "stdout",
     "output_type": "stream",
     "text": [
      "before starting if\n",
      "a is lesser\n",
      "ending if\n",
      "outside if\n"
     ]
    }
   ],
   "source": [
    "a = 10\n",
    "b = 15\n",
    "print \"before starting if\"\n",
    "if a>b:\n",
    "    print \"inside if\"\n",
    "print \"a is lesser\"\n",
    "print \"ending if\"\n",
    "print \"outside if\""
   ]
  },
  {
   "cell_type": "markdown",
   "metadata": {},
   "source": [
    "#2. execute a block of statements based on compound condition\n",
    "#Compound condition is nothing but combining the two or more conditions"
   ]
  },
  {
   "cell_type": "code",
   "execution_count": 10,
   "metadata": {},
   "outputs": [
    {
     "name": "stdout",
     "output_type": "stream",
     "text": [
      "b is greater\n"
     ]
    }
   ],
   "source": [
    "a = 10\n",
    "b = 15\n",
    "c = 12\n",
    "if b>a and b>c:\n",
    "    print \"b is greater\""
   ]
  },
  {
   "cell_type": "code",
   "execution_count": 11,
   "metadata": {},
   "outputs": [
    {
     "name": "stdout",
     "output_type": "stream",
     "text": [
      "10 15 8\n"
     ]
    }
   ],
   "source": [
    "c = 8\n",
    "print a,b,c"
   ]
  },
  {
   "cell_type": "code",
   "execution_count": 12,
   "metadata": {},
   "outputs": [
    {
     "name": "stdout",
     "output_type": "stream",
     "text": [
      "a is lesser\n"
     ]
    }
   ],
   "source": [
    "if a<b or a<c:\n",
    "    print \"a is lesser\""
   ]
  },
  {
   "cell_type": "code",
   "execution_count": 13,
   "metadata": {},
   "outputs": [
    {
     "name": "stdout",
     "output_type": "stream",
     "text": [
      "b is greater\n",
      "inside else\n"
     ]
    }
   ],
   "source": [
    "#execute a block of statements if condition satisfies otherwise execute alternative block of statements\n",
    "a = 8\n",
    "b = 5\n",
    "if a<b:\n",
    "    print \"a is greater\"\n",
    "    print \"inside if\"\n",
    "else:\n",
    "    print \"b is greater\"\n",
    "    print \"inside else\""
   ]
  },
  {
   "cell_type": "code",
   "execution_count": 14,
   "metadata": {},
   "outputs": [
    {
     "name": "stdout",
     "output_type": "stream",
     "text": [
      "a is greater\n",
      "inside if\n"
     ]
    }
   ],
   "source": [
    "#execute a block of statements if condition satisfies otherwise execute alternative block of statements\n",
    "a = 8\n",
    "b = 5\n",
    "if a>b:\n",
    "    print \"a is greater\"\n",
    "    print \"inside if\"\n",
    "else:\n",
    "    print \"b is greater\"\n",
    "    print \"inside else\""
   ]
  },
  {
   "cell_type": "code",
   "execution_count": 15,
   "metadata": {},
   "outputs": [
    {
     "name": "stdout",
     "output_type": "stream",
     "text": [
      "200 has been withdrawn\n"
     ]
    }
   ],
   "source": [
    "#4. maintaining multiple alternatives\n",
    "amount = 400\n",
    "if amount > 1000:\n",
    "    print \"1000 has been withdrawn\"\n",
    "elif amount > 500:\n",
    "    print \"500 has been withdrawn\"\n",
    "elif amount > 200:\n",
    "    print \"200 has been withdrawn\"\n",
    "elif amount > 100:\n",
    "    print \"100 has been withdrawn\""
   ]
  },
  {
   "cell_type": "code",
   "execution_count": 16,
   "metadata": {},
   "outputs": [
    {
     "name": "stdout",
     "output_type": "stream",
     "text": [
      "200 has been withdrawn\n"
     ]
    }
   ],
   "source": [
    "#4. maintaining multiple alternatives\n",
    "amount = 400\n",
    "if amount > 1000:\n",
    "    print \"1000 has been withdrawn\"\n",
    "elif amount > 500:\n",
    "    print \"500 has been withdrawn\"\n",
    "elif amount > 200:\n",
    "    print \"200 has been withdrawn\"\n",
    "elif amount > 100:\n",
    "    print \"100 has been withdrawn\"\n",
    "else:\n",
    "    print \"simply comeback\""
   ]
  },
  {
   "cell_type": "code",
   "execution_count": 17,
   "metadata": {},
   "outputs": [
    {
     "name": "stdout",
     "output_type": "stream",
     "text": [
      "600 has been withdrawn\n"
     ]
    }
   ],
   "source": [
    "#4. maintaining multiple alternatives\n",
    "amount = 500\n",
    "if amount > 1000:\n",
    "    print \"1000 has been withdrawn\"\n",
    "elif amount > 500:\n",
    "    print \"500 has been withdrawn\"\n",
    "elif amount > 200:\n",
    "    print \"600 has been withdrawn\"\n",
    "elif amount > 100:\n",
    "    print \"100 has been withdrawn\"\n",
    "else:\n",
    "    print \"simply comeback\""
   ]
  },
  {
   "cell_type": "code",
   "execution_count": 18,
   "metadata": {},
   "outputs": [
    {
     "name": "stdout",
     "output_type": "stream",
     "text": [
      "b is greater\n"
     ]
    }
   ],
   "source": [
    "a = 5\n",
    "b = 10\n",
    "c = 4\n",
    "if a>b and a>c:\n",
    "    print \"a is greater\"\n",
    "if b>a and b>c:\n",
    "    print \"b is greater\"\n",
    "if c>a and c>b:\n",
    "    print \"c is greater\""
   ]
  },
  {
   "cell_type": "code",
   "execution_count": 19,
   "metadata": {},
   "outputs": [
    {
     "name": "stdout",
     "output_type": "stream",
     "text": [
      "b is greater\n"
     ]
    }
   ],
   "source": [
    "if a>b and a>c:\n",
    "    print \"a is greater\"\n",
    "elif b>a and b>c:\n",
    "    print \"b is greater\"\n",
    "else:\n",
    "    print \"c is greater\""
   ]
  },
  {
   "cell_type": "code",
   "execution_count": 20,
   "metadata": {},
   "outputs": [
    {
     "name": "stdout",
     "output_type": "stream",
     "text": [
      "b is greater\n"
     ]
    }
   ],
   "source": [
    "if a>b and a>c:\n",
    "    print \"a is greater\"\n",
    "elif b>c:\n",
    "    print \"b is greater\"\n",
    "else:\n",
    "    print \"c is greater\""
   ]
  },
  {
   "cell_type": "markdown",
   "metadata": {},
   "source": [
    "# Loops"
   ]
  },
  {
   "cell_type": "code",
   "execution_count": 21,
   "metadata": {},
   "outputs": [],
   "source": [
    "a = 25\n",
    "if a%3 == 0:\n",
    "    print \"a is multiple of 3\""
   ]
  },
  {
   "cell_type": "code",
   "execution_count": 22,
   "metadata": {},
   "outputs": [],
   "source": [
    "#while condition:\n",
    "#    st1\n",
    "#    st2\n",
    "#    |\n",
    "#    |\n",
    "#    stn"
   ]
  },
  {
   "cell_type": "code",
   "execution_count": 23,
   "metadata": {},
   "outputs": [
    {
     "name": "stdout",
     "output_type": "stream",
     "text": [
      "hello World\n",
      "hello World\n",
      "hello World\n",
      "hello World\n",
      "hello World\n"
     ]
    }
   ],
   "source": [
    "x = 2\n",
    "while x<7:\n",
    "    print \"hello World\"\n",
    "    x += 1"
   ]
  },
  {
   "cell_type": "code",
   "execution_count": 24,
   "metadata": {},
   "outputs": [
    {
     "name": "stdout",
     "output_type": "stream",
     "text": [
      "hello World\n",
      "hello World\n"
     ]
    }
   ],
   "source": [
    "x = 5\n",
    "while x<7:\n",
    "    print \"hello World\"\n",
    "    x += 1"
   ]
  },
  {
   "cell_type": "code",
   "execution_count": 25,
   "metadata": {},
   "outputs": [
    {
     "name": "stdout",
     "output_type": "stream",
     "text": [
      "hello World\n",
      "hello World\n"
     ]
    }
   ],
   "source": [
    "x = 2\n",
    "while x<4:\n",
    "    print \"hello World\"\n",
    "    x += 1"
   ]
  },
  {
   "cell_type": "code",
   "execution_count": null,
   "metadata": {},
   "outputs": [],
   "source": [
    "x = 2\n",
    "while x<4:\n",
    "    print \"hello World\""
   ]
  },
  {
   "cell_type": "markdown",
   "metadata": {},
   "source": [
    "# input\n",
    "# raw_input\n"
   ]
  },
  {
   "cell_type": "code",
   "execution_count": 2,
   "metadata": {},
   "outputs": [
    {
     "name": "stdout",
     "output_type": "stream",
     "text": [
      "enter a interger value 10\n"
     ]
    }
   ],
   "source": [
    "# input\n",
    "a = input(\"enter a interger value \")"
   ]
  },
  {
   "cell_type": "code",
   "execution_count": 3,
   "metadata": {},
   "outputs": [
    {
     "name": "stdout",
     "output_type": "stream",
     "text": [
      "10\n"
     ]
    }
   ],
   "source": [
    "print a"
   ]
  },
  {
   "cell_type": "code",
   "execution_count": 4,
   "metadata": {},
   "outputs": [
    {
     "name": "stdout",
     "output_type": "stream",
     "text": [
      "<type 'int'>\n"
     ]
    }
   ],
   "source": [
    "print type(a)"
   ]
  },
  {
   "cell_type": "code",
   "execution_count": 5,
   "metadata": {},
   "outputs": [
    {
     "name": "stdout",
     "output_type": "stream",
     "text": [
      "Enter a float value 10.8\n",
      "10.8\n",
      "<type 'float'>\n"
     ]
    }
   ],
   "source": [
    "b = input(\"Enter a float value \")\n",
    "print b\n",
    "print type(b)"
   ]
  },
  {
   "cell_type": "code",
   "execution_count": 7,
   "metadata": {},
   "outputs": [
    {
     "name": "stdout",
     "output_type": "stream",
     "text": [
      "Enter your first nameNageswaraRao\n"
     ]
    },
    {
     "ename": "NameError",
     "evalue": "name 'NageswaraRao' is not defined",
     "output_type": "error",
     "traceback": [
      "\u001b[1;31m---------------------------------------------------------------------------\u001b[0m",
      "\u001b[1;31mNameError\u001b[0m                                 Traceback (most recent call last)",
      "\u001b[1;32m<ipython-input-7-d1e93e029031>\u001b[0m in \u001b[0;36m<module>\u001b[1;34m()\u001b[0m\n\u001b[1;32m----> 1\u001b[1;33m \u001b[0mname\u001b[0m \u001b[1;33m=\u001b[0m \u001b[0minput\u001b[0m\u001b[1;33m(\u001b[0m\u001b[1;34m\"Enter your first name\"\u001b[0m\u001b[1;33m)\u001b[0m\u001b[1;33m\u001b[0m\u001b[0m\n\u001b[0m\u001b[0;32m      2\u001b[0m \u001b[1;32mprint\u001b[0m \u001b[0mname\u001b[0m\u001b[1;33m\u001b[0m\u001b[0m\n",
      "\u001b[1;32mc:\\python27\\lib\\site-packages\\ipykernel\\ipkernel.pyc\u001b[0m in \u001b[0;36m<lambda>\u001b[1;34m(prompt)\u001b[0m\n\u001b[0;32m    174\u001b[0m             \u001b[0mself\u001b[0m\u001b[1;33m.\u001b[0m\u001b[0m_sys_eval_input\u001b[0m \u001b[1;33m=\u001b[0m \u001b[0mbuiltin_mod\u001b[0m\u001b[1;33m.\u001b[0m\u001b[0minput\u001b[0m\u001b[1;33m\u001b[0m\u001b[0m\n\u001b[0;32m    175\u001b[0m             \u001b[0mbuiltin_mod\u001b[0m\u001b[1;33m.\u001b[0m\u001b[0mraw_input\u001b[0m \u001b[1;33m=\u001b[0m \u001b[0mself\u001b[0m\u001b[1;33m.\u001b[0m\u001b[0mraw_input\u001b[0m\u001b[1;33m\u001b[0m\u001b[0m\n\u001b[1;32m--> 176\u001b[1;33m             \u001b[0mbuiltin_mod\u001b[0m\u001b[1;33m.\u001b[0m\u001b[0minput\u001b[0m \u001b[1;33m=\u001b[0m \u001b[1;32mlambda\u001b[0m \u001b[0mprompt\u001b[0m\u001b[1;33m=\u001b[0m\u001b[1;34m''\u001b[0m\u001b[1;33m:\u001b[0m \u001b[0meval\u001b[0m\u001b[1;33m(\u001b[0m\u001b[0mself\u001b[0m\u001b[1;33m.\u001b[0m\u001b[0mraw_input\u001b[0m\u001b[1;33m(\u001b[0m\u001b[0mprompt\u001b[0m\u001b[1;33m)\u001b[0m\u001b[1;33m)\u001b[0m\u001b[1;33m\u001b[0m\u001b[0m\n\u001b[0m\u001b[0;32m    177\u001b[0m         \u001b[0mself\u001b[0m\u001b[1;33m.\u001b[0m\u001b[0m_save_getpass\u001b[0m \u001b[1;33m=\u001b[0m \u001b[0mgetpass\u001b[0m\u001b[1;33m.\u001b[0m\u001b[0mgetpass\u001b[0m\u001b[1;33m\u001b[0m\u001b[0m\n\u001b[0;32m    178\u001b[0m         \u001b[0mgetpass\u001b[0m\u001b[1;33m.\u001b[0m\u001b[0mgetpass\u001b[0m \u001b[1;33m=\u001b[0m \u001b[0mself\u001b[0m\u001b[1;33m.\u001b[0m\u001b[0mgetpass\u001b[0m\u001b[1;33m\u001b[0m\u001b[0m\n",
      "\u001b[1;32mc:\\python27\\lib\\site-packages\\ipykernel\\ipkernel.pyc\u001b[0m in \u001b[0;36m<module>\u001b[1;34m()\u001b[0m\n",
      "\u001b[1;31mNameError\u001b[0m: name 'NageswaraRao' is not defined"
     ]
    }
   ],
   "source": [
    "name = input(\"Enter your first name\")\n",
    "print name"
   ]
  },
  {
   "cell_type": "code",
   "execution_count": 8,
   "metadata": {},
   "outputs": [
    {
     "ename": "NameError",
     "evalue": "name 'z' is not defined",
     "output_type": "error",
     "traceback": [
      "\u001b[1;31m---------------------------------------------------------------------------\u001b[0m",
      "\u001b[1;31mNameError\u001b[0m                                 Traceback (most recent call last)",
      "\u001b[1;32m<ipython-input-8-dac9faf44c36>\u001b[0m in \u001b[0;36m<module>\u001b[1;34m()\u001b[0m\n\u001b[1;32m----> 1\u001b[1;33m \u001b[1;32mprint\u001b[0m \u001b[0mz\u001b[0m\u001b[1;33m\u001b[0m\u001b[0m\n\u001b[0m",
      "\u001b[1;31mNameError\u001b[0m: name 'z' is not defined"
     ]
    }
   ],
   "source": [
    "print z"
   ]
  },
  {
   "cell_type": "code",
   "execution_count": 9,
   "metadata": {},
   "outputs": [
    {
     "name": "stdout",
     "output_type": "stream",
     "text": [
      "Enter your first name'NageswaraRao'\n",
      "NageswaraRao\n"
     ]
    }
   ],
   "source": [
    "name = input(\"Enter your first name\")\n",
    "print name"
   ]
  },
  {
   "cell_type": "code",
   "execution_count": 10,
   "metadata": {},
   "outputs": [
    {
     "name": "stdout",
     "output_type": "stream",
     "text": [
      "Enter name Nag\n"
     ]
    }
   ],
   "source": [
    "name = raw_input('Enter name ')"
   ]
  },
  {
   "cell_type": "code",
   "execution_count": 11,
   "metadata": {},
   "outputs": [
    {
     "name": "stdout",
     "output_type": "stream",
     "text": [
      "Nag\n"
     ]
    }
   ],
   "source": [
    "print name"
   ]
  },
  {
   "cell_type": "code",
   "execution_count": 12,
   "metadata": {},
   "outputs": [
    {
     "name": "stdout",
     "output_type": "stream",
     "text": [
      "enter a interger value 6\n",
      "6\n",
      "<type 'str'>\n"
     ]
    }
   ],
   "source": [
    "a = raw_input('enter a interger value ')\n",
    "print a\n",
    "print type(a)"
   ]
  },
  {
   "cell_type": "code",
   "execution_count": 13,
   "metadata": {},
   "outputs": [
    {
     "name": "stdout",
     "output_type": "stream",
     "text": [
      "<type 'int'>\n"
     ]
    }
   ],
   "source": [
    "a = int(a)\n",
    "print type(a)"
   ]
  },
  {
   "cell_type": "code",
   "execution_count": 14,
   "metadata": {},
   "outputs": [
    {
     "name": "stdout",
     "output_type": "stream",
     "text": [
      "enter a integer value 6\n",
      "6\n",
      "<type 'int'>\n"
     ]
    }
   ],
   "source": [
    "a = int(raw_input('enter a integer value '))\n",
    "print a\n",
    "print type(a)"
   ]
  },
  {
   "cell_type": "code",
   "execution_count": 15,
   "metadata": {},
   "outputs": [
    {
     "name": "stdout",
     "output_type": "stream",
     "text": [
      "enter a value less than 100 83\n",
      "85\n",
      "90\n",
      "95\n",
      "100\n"
     ]
    }
   ],
   "source": [
    "a = int(raw_input(\"enter a value less than 100 \"))\n",
    "while a<=100:\n",
    "    if a%5 == 0:\n",
    "        print a\n",
    "    a += 1"
   ]
  },
  {
   "cell_type": "code",
   "execution_count": 16,
   "metadata": {},
   "outputs": [
    {
     "name": "stdout",
     "output_type": "stream",
     "text": [
      "enter a value less than 100 76\n",
      "80\n",
      "85\n",
      "90\n",
      "95\n",
      "100\n"
     ]
    }
   ],
   "source": [
    "a = int(raw_input(\"enter a value less than 100 \"))\n",
    "while a<=100:\n",
    "    if a%5 == 0:\n",
    "        print a\n",
    "    a += 1"
   ]
  },
  {
   "cell_type": "code",
   "execution_count": 17,
   "metadata": {},
   "outputs": [
    {
     "name": "stdout",
     "output_type": "stream",
     "text": [
      "enter a value to the verify whether prime or not? 25\n",
      "You have entered non-prime number\n"
     ]
    }
   ],
   "source": [
    "# prime number program the while loop\n",
    "val = int(raw_input(\"enter a value to the verify whether prime or not? \"))\n",
    "i = 1\n",
    "count = 0\n",
    "while i <= val:\n",
    "    if val%i == 0:\n",
    "        count += 1\n",
    "    i += 1\n",
    "if count == 2:\n",
    "    print \"You have entered a prime number\"\n",
    "else:\n",
    "    print \"You have entered non-prime number\""
   ]
  },
  {
   "cell_type": "code",
   "execution_count": 19,
   "metadata": {},
   "outputs": [
    {
     "name": "stdout",
     "output_type": "stream",
     "text": [
      "enter a value to the verify whether prime or not? 29\n",
      "You have entered a prime number\n",
      "2\n"
     ]
    }
   ],
   "source": [
    "# prime number program the while loop\n",
    "val = int(raw_input(\"enter a value to the verify whether prime or not? \"))\n",
    "i = 1\n",
    "count = 0\n",
    "while i <= val:\n",
    "    if val%i == 0:\n",
    "        count += 1\n",
    "    i += 1\n",
    "if count == 2:\n",
    "    print \"You have entered a prime number\"\n",
    "else:\n",
    "    print \"You have entered non-prime number\"\n",
    "print count"
   ]
  },
  {
   "cell_type": "code",
   "execution_count": 20,
   "metadata": {},
   "outputs": [
    {
     "name": "stdout",
     "output_type": "stream",
     "text": [
      "enter a value to the verify whether prime or not? 21\n",
      "You have entered non-prime number\n",
      "4\n"
     ]
    }
   ],
   "source": [
    "# prime number program the while loop\n",
    "val = int(raw_input(\"enter a value to the verify whether prime or not? \"))\n",
    "i = 1\n",
    "count = 0\n",
    "while i <= val:\n",
    "    if val%i == 0:\n",
    "        count += 1\n",
    "    i += 1\n",
    "if count == 2:\n",
    "    print \"You have entered a prime number\"\n",
    "else:\n",
    "    print \"You have entered non-prime number\"\n",
    "print count"
   ]
  },
  {
   "cell_type": "code",
   "execution_count": 21,
   "metadata": {},
   "outputs": [
    {
     "name": "stdout",
     "output_type": "stream",
     "text": [
      "enter a value to the verify whether prime or not? 29\n",
      "You have entered a prime number\n",
      "0\n"
     ]
    }
   ],
   "source": [
    "# prime number program the while loop\n",
    "val = int(raw_input(\"enter a value to the verify whether prime or not? \"))\n",
    "i = 2\n",
    "count = 0\n",
    "while i < val:\n",
    "    if val%i == 0:\n",
    "        count += 1\n",
    "    i += 1\n",
    "if count == 0:\n",
    "    print \"You have entered a prime number\"\n",
    "else:\n",
    "    print \"You have entered non-prime number\"\n",
    "print count"
   ]
  },
  {
   "cell_type": "code",
   "execution_count": 22,
   "metadata": {
    "scrolled": true
   },
   "outputs": [
    {
     "name": "stdout",
     "output_type": "stream",
     "text": [
      "enter a value to the verify whether prime or not? 21\n",
      "You have entered non-prime number\n",
      "2\n"
     ]
    }
   ],
   "source": [
    "# prime number program the while loop\n",
    "val = int(raw_input(\"enter a value to the verify whether prime or not? \"))\n",
    "i = 2\n",
    "count = 0\n",
    "while i < val:\n",
    "    if val%i == 0:\n",
    "        count += 1\n",
    "    i += 1\n",
    "if count == 0:\n",
    "    print \"You have entered a prime number\"\n",
    "else:\n",
    "    print \"You have entered non-prime number\"\n",
    "print count"
   ]
  },
  {
   "cell_type": "code",
   "execution_count": 23,
   "metadata": {},
   "outputs": [
    {
     "name": "stdout",
     "output_type": "stream",
     "text": [
      "enter a value to the verify whether prime or not? 21\n",
      "You have entered non-prime number\n",
      "False 3\n"
     ]
    }
   ],
   "source": [
    "#break\n",
    "# prime number program the while loop\n",
    "val = int(raw_input(\"enter a value to the verify whether prime or not? \"))\n",
    "i = 2\n",
    "is_prime = True\n",
    "while i < val:\n",
    "    if val%i == 0:\n",
    "        is_prime = False\n",
    "        break\n",
    "    i += 1\n",
    "if is_prime:\n",
    "    print \"You have entered a prime number\"\n",
    "else:\n",
    "    print \"You have entered non-prime number\"\n",
    "print is_prime, i"
   ]
  },
  {
   "cell_type": "code",
   "execution_count": 24,
   "metadata": {},
   "outputs": [
    {
     "name": "stdout",
     "output_type": "stream",
     "text": [
      "enter a value to the verify whether prime or not? 29\n",
      "You have entered a prime number\n",
      "True 29\n"
     ]
    }
   ],
   "source": [
    "#break\n",
    "# prime number program the while loop\n",
    "val = int(raw_input(\"enter a value to the verify whether prime or not? \"))\n",
    "i = 2\n",
    "is_prime = True\n",
    "while i < val:\n",
    "    if val%i == 0:\n",
    "        is_prime = False\n",
    "        break\n",
    "    i += 1\n",
    "if is_prime:\n",
    "    print \"You have entered a prime number\"\n",
    "else:\n",
    "    print \"You have entered non-prime number\"\n",
    "print is_prime, i"
   ]
  },
  {
   "cell_type": "code",
   "execution_count": 25,
   "metadata": {},
   "outputs": [
    {
     "name": "stdout",
     "output_type": "stream",
     "text": [
      "1\n"
     ]
    }
   ],
   "source": [
    "i = 1\n",
    "while i < 10:\n",
    "    break\n",
    "    i += 1\n",
    "print i"
   ]
  },
  {
   "cell_type": "code",
   "execution_count": 26,
   "metadata": {},
   "outputs": [
    {
     "name": "stdout",
     "output_type": "stream",
     "text": [
      "1\n"
     ]
    }
   ],
   "source": [
    "i = 1\n",
    "print i"
   ]
  },
  {
   "cell_type": "code",
   "execution_count": 30,
   "metadata": {},
   "outputs": [],
   "source": [
    "# continue"
   ]
  },
  {
   "cell_type": "code",
   "execution_count": 31,
   "metadata": {},
   "outputs": [
    {
     "name": "stdout",
     "output_type": "stream",
     "text": [
      "not divisible with 3 4\n",
      "not divisible with 3 5\n",
      "6\n",
      "not divisible with 3 7\n",
      "not divisible with 3 8\n",
      "9\n",
      "not divisible with 3 10\n"
     ]
    }
   ],
   "source": [
    "i =4\n",
    "while i<=10:\n",
    "    if i%3 == 0:\n",
    "        print i\n",
    "        i += 1\n",
    "        continue\n",
    "    print \"not divisible with 3\", i\n",
    "    i += 1"
   ]
  },
  {
   "cell_type": "code",
   "execution_count": null,
   "metadata": {},
   "outputs": [],
   "source": [
    "i =4\n",
    "while i<=10:\n",
    "    if i%3 == 0:\n",
    "        print i\n",
    "        continue\n",
    "    print \"not divisible with 3\", i\n",
    "    i += 1"
   ]
  }
 ],
 "metadata": {
  "kernelspec": {
   "display_name": "Python 2",
   "language": "python",
   "name": "python2"
  },
  "language_info": {
   "codemirror_mode": {
    "name": "ipython",
    "version": 2
   },
   "file_extension": ".py",
   "mimetype": "text/x-python",
   "name": "python",
   "nbconvert_exporter": "python",
   "pygments_lexer": "ipython2",
   "version": "2.7.15"
  }
 },
 "nbformat": 4,
 "nbformat_minor": 2
}
